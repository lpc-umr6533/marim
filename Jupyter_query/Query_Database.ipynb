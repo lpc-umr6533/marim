{
 "cells": [
  {
   "cell_type": "markdown",
   "id": "8776adb1",
   "metadata": {
    "slideshow": {
     "slide_type": "slide"
    }
   },
   "source": [
    "![Grafic Representation](Database_logo.png)\n",
    "\n",
    "## Simulation of the radiation exposure of microorganisms living in submarine hydrothermal systems."
   ]
  },
  {
   "cell_type": "markdown",
   "id": "4268b710",
   "metadata": {
    "slideshow": {
     "slide_type": "skip"
    }
   },
   "source": [
    "##### Radioactivity Monitoring in Ocean Ecosystems (RAMONES)"
   ]
  },
  {
   "cell_type": "markdown",
   "id": "7fcccd7e-0583-42e4-a5c1-7c7504c5bfbc",
   "metadata": {
    "slideshow": {
     "slide_type": "slide"
    },
    "tags": []
   },
   "source": [
    "## Microbial Dose Rate Database"
   ]
  },
  {
   "cell_type": "markdown",
   "id": "7960cc0a",
   "metadata": {
    "slideshow": {
     "slide_type": "-"
    }
   },
   "source": [
    "The following open-source code has been developed to estimate the dose rate for a microorganism exposed to natural radioactivity sources from Uranium-238 and Thorium-232 decay chains.\n",
    "\n",
    "The code accesses a SQL file named Dose Rate DataBase (DRDB) that contains the results of Monte Carlo simulations performed using GATE (opengatecollaboration.org) toolkit for the particular scenario being analyzed."
   ]
  },
  {
   "cell_type": "markdown",
   "id": "e22cd76a",
   "metadata": {
    "slideshow": {
     "slide_type": "slide"
    }
   },
   "source": [
    "### 1. Simulations description"
   ]
  },
  {
   "cell_type": "markdown",
   "id": "e9b2e316",
   "metadata": {
    "slideshow": {
     "slide_type": "-"
    }
   },
   "source": [
    "<div style=\"display: inline-block; vertical-align: text-bottom; width: 50%;\">\n",
    "     <img src=\"geometry.jpeg\" alt=\"Seba y Chispy\" style=\"display: block; margin: 0 auto; width: 3000px;\">\n",
    "</div>"
   ]
  },
  {
   "cell_type": "markdown",
   "id": "e78e145a",
   "metadata": {
    "slideshow": {
     "slide_type": "skip"
    }
   },
   "source": [
    "## Simulation Geometry\n",
    "\n",
    "The experiment focuses on studying microorganisms using a water sphere as their representation, which is surrounded by an infinite radioactive matrix. The microorganisms' diameters range from 0.5 to 150 micrometers. The radioactive source is uniformly distributed throughout the entire matrix volume and emits radiation isotropically. For the radiation source, all alpha emitters from the Uranium-238 and Thorium-232 decay chains are considered. To define the infinite matrix, the range of alpha emission from the radionuclides was overestimated by 20%. The study explores different matrix compositions, ranging from pure water to pure quartz, as well as intermediate quartz hydratation states (>50% in water content).\n",
    "\n",
    "<h1 style=\"font-size: 20px;\">Simulation Parameters</h1>\n",
    "<p>\n",
    "<div style=\"text-align: justify;\">\n",
    "The experiment’s physics was modeled using EM_standard_option4 library. Uncertainties values were kept lower than 2%."
   ]
  },
  {
   "cell_type": "markdown",
   "id": "f88e088c",
   "metadata": {
    "slideshow": {
     "slide_type": "slide"
    }
   },
   "source": [
    "### 2. Data storage\n",
    "SQL file storaged in GitHub: "
   ]
  },
  {
   "cell_type": "markdown",
   "id": "9aa5d746",
   "metadata": {
    "slideshow": {
     "slide_type": "-"
    }
   },
   "source": [
    "<div style=\"text-align: center;\">\n",
    "    <div>\n",
    "        <img src=\"Picture5.png\" alt=\"Seba y Chispy\" style=\"display: block; margin: 0 auto; width: 1000px;\">\n",
    "    </div>\n",
    "</div>\n"
   ]
  },
  {
   "cell_type": "markdown",
   "id": "d5c9b953",
   "metadata": {
    "slideshow": {
     "slide_type": "-"
    }
   },
   "source": [
    "To use the database there are two options:\n",
    "\n",
    "1. Access to the server were it is hosted, or\n",
    "\n",
    "2. Have the SQL Database file stored in your main computer.\n",
    "\n",
    "It's possible to read and modify the DRDB using a mysql. To have a visual interface we recommend HeidiSQL, free software."
   ]
  },
  {
   "cell_type": "markdown",
   "id": "d1aaf23b",
   "metadata": {
    "slideshow": {
     "slide_type": "slide"
    }
   },
   "source": [
    "### 3. Input parameters to the SQL database"
   ]
  },
  {
   "cell_type": "code",
   "execution_count": 1,
   "id": "fe9748dd",
   "metadata": {
    "slideshow": {
     "slide_type": "skip"
    }
   },
   "outputs": [],
   "source": [
    "# Interface section\n",
    "\n",
    "def toggle_cell_code(button_id):\n",
    "    \"\"\"\n",
    "    Adds a button to toggle (show/hide) the code cell but not the output. \n",
    "    \n",
    "    Parameters\n",
    "    ----------\n",
    "    button_id : str\n",
    "        An identifier for cells that will hide/show when the button is pressed.\n",
    "    \"\"\"\n",
    "    from IPython.display import display_html\n",
    "    my_html = '''\n",
    "    <button type=\"button\" id=\"%s\" onclick=\"code_toggle('%s')\">Code</button>\n",
    "    <script>\n",
    "    function code_toggle(my_id) {\n",
    "        // get the parent element for the cell code and output\n",
    "        var p = $(\"#\"+my_id);\n",
    "        if (p.length==0) return;\n",
    "        while (!p.hasClass(\"cell\")) {\n",
    "            p = p.parent();\n",
    "            if (p.prop(\"tagName\") ==\"body\") return;\n",
    "        }\n",
    "    // get the cell code and toggle its value\n",
    "    var cell_code = p.find(\".input\");\n",
    "    cell_code.toggle();\n",
    "\n",
    "\n",
    "    // toggle the button label\n",
    "    var button = $(\"#\" + my_id);\n",
    "    if (cell_code.is(\":visible\")) {\n",
    "        button.text(\"Hide Code\");\n",
    "    } else {\n",
    "        button.text(\"Show Code\");\n",
    "    }\n",
    "    }\n",
    "    </script>\n",
    "    ''' %(button_id, button_id)\n",
    "    return display_html(my_html, raw=True)"
   ]
  },
  {
   "cell_type": "code",
   "execution_count": 2,
   "id": "1d215e84",
   "metadata": {
    "slideshow": {
     "slide_type": "-"
    }
   },
   "outputs": [
    {
     "data": {
      "text/html": [
       "\n",
       "    <button type=\"button\" id=\"String_unique\" onclick=\"code_toggle('String_unique')\">Code</button>\n",
       "    <script>\n",
       "    function code_toggle(my_id) {\n",
       "        // get the parent element for the cell code and output\n",
       "        var p = $(\"#\"+my_id);\n",
       "        if (p.length==0) return;\n",
       "        while (!p.hasClass(\"cell\")) {\n",
       "            p = p.parent();\n",
       "            if (p.prop(\"tagName\") ==\"body\") return;\n",
       "        }\n",
       "    // get the cell code and toggle its value\n",
       "    var cell_code = p.find(\".input\");\n",
       "    cell_code.toggle();\n",
       "\n",
       "\n",
       "    // toggle the button label\n",
       "    var button = $(\"#\" + my_id);\n",
       "    if (cell_code.is(\":visible\")) {\n",
       "        button.text(\"Hide Code\");\n",
       "    } else {\n",
       "        button.text(\"Show Code\");\n",
       "    }\n",
       "    }\n",
       "    </script>\n",
       "    "
      ]
     },
     "metadata": {},
     "output_type": "display_data"
    },
    {
     "data": {
      "application/vnd.jupyter.widget-view+json": {
       "model_id": "f9015b8316eb42e3b7bc1b61bf247ab0",
       "version_major": 2,
       "version_minor": 0
      },
      "text/plain": [
       "HBox(children=(Dropdown(description='Exposure:', options=(('External', 'external'), ('Internal', 'internal')),…"
      ]
     },
     "metadata": {},
     "output_type": "display_data"
    },
    {
     "name": "stdout",
     "output_type": "stream",
     "text": [
      "Select environment density only for external exposure\n"
     ]
    },
    {
     "data": {
      "application/vnd.jupyter.widget-view+json": {
       "model_id": "981ea558cf954cfdb96c9dc9527c55d5",
       "version_major": 2,
       "version_minor": 0
      },
      "text/plain": [
       "VBox(children=(FloatSlider(value=1.0, continuous_update=False, description='Environment density (g/cm³):', lay…"
      ]
     },
     "metadata": {},
     "output_type": "display_data"
    },
    {
     "data": {
      "application/vnd.jupyter.widget-view+json": {
       "model_id": "316fd74913b04f19b2f4a322c986874c",
       "version_major": 2,
       "version_minor": 0
      },
      "text/plain": [
       "HBox(children=(Dropdown(description='Radionuclide:', options=(('Bismuth-212', '212bi'), ('Polonium-210', '210p…"
      ]
     },
     "metadata": {},
     "output_type": "display_data"
    },
    {
     "data": {
      "application/vnd.jupyter.widget-view+json": {
       "model_id": "4ff8f62ae9f747c185684a547d495482",
       "version_major": 2,
       "version_minor": 0
      },
      "text/plain": [
       "HBox(children=(BoundedFloatText(value=1.0, description='Activity concentration:', max=1000000.0, min=1.0, styl…"
      ]
     },
     "metadata": {},
     "output_type": "display_data"
    },
    {
     "data": {
      "application/vnd.jupyter.widget-view+json": {
       "model_id": "1517fc97c3a84a8592091063bbae8c8d",
       "version_major": 2,
       "version_minor": 0
      },
      "text/plain": [
       "BoundedFloatText(value=0.5, description='Microorganism Diameter (μm):', max=250.0, min=0.5, style=DescriptionS…"
      ]
     },
     "metadata": {},
     "output_type": "display_data"
    },
    {
     "data": {
      "application/vnd.jupyter.widget-view+json": {
       "model_id": "9dff8a527d7c48748fde866fb311885b",
       "version_major": 2,
       "version_minor": 0
      },
      "text/plain": [
       "Button(description='Execute Cell', style=ButtonStyle())"
      ]
     },
     "metadata": {},
     "output_type": "display_data"
    }
   ],
   "source": [
    "##############################################################################\n",
    "# REQUIREMENTS\n",
    "##############################################################################\n",
    "# Install ipywidgets and ipympl before\n",
    "# in any case check to have all the libraries associated installed before running the code.\n",
    "# jupyter nbextension enable --py widgetsnbextension (check if you have this extention)\n",
    "# pip install plotly\n",
    "# You need to have mysql to access to the database\n",
    "# To be able to presents as Slides you need to have Rise, also you can modify the metadata(Edit/Edit Notebook Metadata)\n",
    "\n",
    "##############################################################################\n",
    "# Button to hide the code\n",
    "##############################################################################\n",
    "toggle_cell_code(\"String_unique\")\n",
    "\n",
    "##############################################################################\n",
    "# LIBRARY\n",
    "##############################################################################\n",
    "%matplotlib widget\n",
    "\n",
    "import ipywidgets as widgets\n",
    "from ipywidgets import Layout\n",
    "from ipywidgets import GridspecLayout\n",
    "from ipywidgets import interact, interactive, fixed, interact_manual\n",
    "from IPython.display import display, HTML, Javascript\n",
    "\n",
    "import plotly.graph_objects as go\n",
    "import plotly.express as px\n",
    "import plotly\n",
    "\n",
    "#for offline plotting using plotly\n",
    "from plotly.offline import download_plotlyjs, init_notebook_mode, plot, iplot\n",
    "\n",
    "import sys\n",
    "import math\n",
    "import numpy as np\n",
    "import mysql.connector\n",
    "import seaborn as sns\n",
    "import matplotlib.pyplot as plt\n",
    "import matplotlib.widgets as mwidgets\n",
    "from matplotlib.widgets import Slider, Button, TextBox\n",
    "from mysql.connector import Error\n",
    "from scipy.optimize import curve_fit\n",
    "from scipy.interpolate import interp1d\n",
    "#import tkinter as tk\n",
    "\n",
    "import matplotlib as mpl\n",
    "mpl.rcParams['figure.max_open_warning'] = 50\n",
    "\n",
    "\n",
    "##############################################################################\n",
    "# DEFINING INTERPOLATION-EXTRAPOLATION FUNCTIONS FOR THE DIFFERENTS GEOMETRIES \n",
    "##############################################################################\n",
    "\n",
    "def interpolate_and_extrapolate(x_data, y_data, x):\n",
    "    if 0.5 < x < 150:\n",
    "        f = interp1d(x_data, y_data)\n",
    "        y = f(x)\n",
    "    else:\n",
    "        f = interp1d(x_data, y_data, fill_value=\"extrapolate\")\n",
    "        y = f(x)\n",
    "    return y\n",
    "\n",
    "##############################################################################\n",
    "# MAKING WIDGETS TO REQUEST THE USER INPUTS\n",
    "##############################################################################\n",
    "\n",
    "# DEFINING SELECTION OPTIONS AND ITS VALUES\n",
    "Exposure = [\n",
    "    ('External', 'external'),\n",
    "    ('Internal', 'internal')\n",
    "]\n",
    "\n",
    "# DEFINING SELECTION OPTIONS AND ITS VALUES\n",
    "Radionuclide = [\n",
    "    ('Bismuth-212', '212bi'),\n",
    "    ('Polonium-210', '210po'),\n",
    "    ('Polonium-212', '212po'),\n",
    "    ('Polonium-214', '214po'),\n",
    "    ('Polonium-216', '216po'),\n",
    "    ('Polonium-218', '218po'),\n",
    "    ('Radium-226', '226ra'),\n",
    "    ('Radium-224', '224ra'),\n",
    "    ('Radon-220', '220rn'),\n",
    "    ('Radon-222', '222rn'),\n",
    "    ('Thorium-228', '228th'),\n",
    "    ('Thorium-230', '230th'),\n",
    "    ('Thorium-232', '232th'),\n",
    "    ('Uranium-234', '234u'),\n",
    "    ('Uranium-238', '238u')\n",
    "]\n",
    "\n",
    "output =widgets.Output(layout={'border':'1px solid black'})\n",
    "output\n",
    "\n",
    "style = {'description_width': 'initial'}   # ADJUSTING THE STYLE FOR THE DIAMETER (IF YOU REMOVE IT DOESN'T SHOW THE WHOLE NAME\n",
    "\n",
    "# EXPOSURE DROPDOWN BAR\n",
    "dropdown_exposure = widgets.Dropdown(options= Exposure, description='Exposure:')\n",
    "\n",
    "input1_widgets = widgets.HBox([dropdown_exposure])\n",
    "display(input1_widgets)\n",
    "print(\"Select environment density only for external exposure\")\n",
    "\n",
    "# RADIONUCLIDE DROPDOWN BAR\n",
    "dropdown_radionuclide = widgets.Dropdown(options= Radionuclide, description='Radionuclide:')\n",
    "\n",
    "##############################################################################\n",
    "# ENVIRONMENT DENSITY SLIDER WIDGET\n",
    "##############################################################################\n",
    "slider = widgets.FloatSlider(\n",
    "    value=1.0,                                        # Initial value\n",
    "    min=1.0,                                          # Minimum value : Water density\n",
    "    max=2.65,                                         # Maximum value : Quartz density\n",
    "    step=0.01,                                        # Step size\n",
    "    description='Environment density (g/cm\\u00b3):',  # Slider label\n",
    "    readout_format='.2f',                             # Format of the displayed value\n",
    "    continuous_update=False,                          # Update the value only when the user releases the slider\n",
    "    style=style\n",
    ")\n",
    "\n",
    "# Set the labels for the minimum and maximum values\n",
    "slider.style.handle_color = 'lightblue'               # Optional: customize the slider handle color\n",
    "slider.layout.width = '400px'                         # Optional: customize the width of the slider\n",
    "\n",
    "empty_label = widgets.Label(value='')                 # Empty label for spacing\n",
    "labels = [empty_label,empty_label,empty_label,empty_label,empty_label,empty_label,empty_label,empty_label,empty_label,empty_label,empty_label,empty_label,empty_label,empty_label,empty_label,empty_label,empty_label,empty_label,empty_label,empty_label,empty_label,empty_label,empty_label,empty_label,empty_label,empty_label,empty_label,empty_label,empty_label,empty_label,empty_label,empty_label,empty_label,empty_label,empty_label,empty_label,empty_label,empty_label,empty_label, widgets.Label(value='Pure water'),empty_label,empty_label,empty_label,empty_label,empty_label,empty_label,empty_label,empty_label,empty_label,empty_label,empty_label,empty_label,empty_label,empty_label, widgets.Label(value='Pure sediment')]\n",
    "\n",
    "labels_box = widgets.HBox(labels)\n",
    "slider_with_labels = widgets.VBox([slider,labels_box])\n",
    "\n",
    "# Display the slider widget with its labels\n",
    "display(slider_with_labels)\n",
    "\n",
    "##############################################################################\n",
    "# ACTIVITY BOX DEFINITION (MAX AND MIN VALUES POSSIBLE)\n",
    "##############################################################################\n",
    "bounded_Activity = widgets.BoundedFloatText(min=1,max=1000000, description='Activity concentration:',style=style)\n",
    "\n",
    "##############################################################################\n",
    "# DIAMETER BOX DEFINITION (MAX AND MIN VALUES POSSIBLE)\n",
    "##############################################################################\n",
    "bounded_diameter = widgets.BoundedFloatText(min=0.5,max=250, description='Microorganism Diameter (\\u03BCm):', style=style)\n",
    "Diameter = bounded_diameter.value\n",
    "\n",
    "##############################################################################\n",
    "# MAKING A CHECKBOX FOR THE ACTIVITY UNITS SELECTION\n",
    "##############################################################################\n",
    "input4_widgets = widgets.RadioButtons(options=['Bq/kg', 'Bq/m\\u00b3', 'Bq/L'],\n",
    "    value='Bq/kg', # Defaults to 'Bq/L'\n",
    "    # layout={'width': 'max-content'}, # If the items' names are long\n",
    "    description='Units:',\n",
    "    disabled=False\n",
    ")\n",
    "\n",
    "\n",
    "##############################################################################\n",
    "# ADJUST VARIOUS WIDGETS IN THE SAME LINE\n",
    "##############################################################################\n",
    "\n",
    "input2_widgets = widgets.HBox([dropdown_radionuclide])\n",
    "input3_widgets = widgets.HBox([bounded_Activity, input4_widgets])\n",
    "\n",
    "# DISPLAYING THE WIDGETS\n",
    "\n",
    "display(input2_widgets)\n",
    "display(input3_widgets)\n",
    "display(bounded_diameter)\n",
    "\n",
    "#Function to execute a specific cell\n",
    "def execute_cell(cell_number):\n",
    "    display(Javascript(f'UPython.notebook.execute_cell_range({cell_number}, {cell_number+1})'))\n",
    "\n",
    "#Create a button and define its behavior\n",
    "button = widgets.Button(description=\"Execute Cell\")\n",
    "button.on_click(lambda b: execute_cell(5)) #Replace number with the desire number cell\n",
    "\n",
    "#Display the button\n",
    "display(button)"
   ]
  },
  {
   "cell_type": "code",
   "execution_count": 3,
   "id": "30feafe1-fa65-4702-8296-a88ee9df55ae",
   "metadata": {},
   "outputs": [
    {
     "data": {
      "text/html": [
       "\n",
       "    <button type=\"button\" id=\"String_database\" onclick=\"code_toggle('String_database')\">Code</button>\n",
       "    <script>\n",
       "    function code_toggle(my_id) {\n",
       "        // get the parent element for the cell code and output\n",
       "        var p = $(\"#\"+my_id);\n",
       "        if (p.length==0) return;\n",
       "        while (!p.hasClass(\"cell\")) {\n",
       "            p = p.parent();\n",
       "            if (p.prop(\"tagName\") ==\"body\") return;\n",
       "        }\n",
       "    // get the cell code and toggle its value\n",
       "    var cell_code = p.find(\".input\");\n",
       "    cell_code.toggle();\n",
       "\n",
       "\n",
       "    // toggle the button label\n",
       "    var button = $(\"#\" + my_id);\n",
       "    if (cell_code.is(\":visible\")) {\n",
       "        button.text(\"Hide Code\");\n",
       "    } else {\n",
       "        button.text(\"Show Code\");\n",
       "    }\n",
       "    }\n",
       "    </script>\n",
       "    "
      ]
     },
     "metadata": {},
     "output_type": "display_data"
    },
    {
     "name": "stdout",
     "output_type": "stream",
     "text": [
      "Connected to MySQL Server version  8.2.0\n",
      "You're connected to database:\n",
      "EXTERNAL\n",
      "Dose to microorganisms in uGy:  0.0003593008101449535\n"
     ]
    },
    {
     "data": {
      "application/vnd.jupyter.widget-view+json": {
       "model_id": "a4a943552d9f4059b5a1a259ffe73498",
       "version_major": 2,
       "version_minor": 0
      },
      "image/png": "[encoded data removed]",
      "text/html": [
       "\n",
       "            <div style=\"display: inline-block;\">\n",
       "                <div class=\"jupyter-widgets widget-label\" style=\"text-align: center;\">\n",
       "                    Figure\n",
       "                </div>\n",
       "                <img src='data:image/png;base64,iVBORw0KGgoAAAANSUhEUgAAAoAAAAHgCAYAAAA10dzkAAAAOXRFWHRTb2Z0d2FyZQBNYXRwbG90bGliIHZlcnNpb24zLjguMiwgaHR0cHM6Ly9tYXRwbG90bGliLm9yZy8g+/7EAAAACXBIWXMAAA9hAAAPYQGoP6dpAAB8jUlEQVR4nO3dd1gUV9sG8HtpS+9dQLChgg2xYC9ELDGWWILG3mNvUaOxJMaSRGOJLcaIGns3FhIsYFQUGwqiqAgiSFHpIHXn+4OPfd0AClJ2Ye/fde2lO3Nm5jkLwzx75pwzIkEQBBARERGR0lCRdwBEREREVLmYABIREREpGSaAREREREqGCSARERGRkmECSERERKRkmAASERERKRkmgERERERKhgkgERERkZJhAkhERESkZJgAEhERESkZJoBERERESoYJIBEREZGSYQJIREREpGSYABIREREpGSaAREREREqGCSARERGRkmECSERERKRkmAASERERKRkmgERERERKhgkgERERkZJhAkhERESkZJgAEhERESkZJoBERERESoYJIBEREZGSYQJIREREpGSYABIREREpGSaAREREREqGCSARERGRkmECSERERKRkmAASERERKRkmgERERERKhgkgERERkZJhAkhERESkZJgAEhERESkZJoBERKUUEREBkUgELy8veYdCRPRRmAASUbXh5eUFkUgkfampqaFGjRoYOXIkoqOj5R1euXjz5g1++ukndOjQAWZmZjA0NETr1q1x8ODBQmVv3ryJKVOmwMnJCTo6OrCzs8OgQYPw+PFjmXISiQReXl747LPPYGtrCx0dHTg7O2P58uXIzMysrKoRUSVSk3cARETl7bvvvoODgwMyMzNx/fp1eHl54cqVKwgODoampqa8wysTf39/LFy4ED179sSiRYugpqaGo0eP4osvvkBISAiWLVsmLbt69WpcvXoVAwcOROPGjREbG4tff/0VLi4uuH79OpydnQEAGRkZGDVqFFq3bo2JEyfC3Nwc/v7+WLJkCS5cuICLFy9CJBLJq8pEVBEEIqJqYufOnQIA4ebNmzLL582bJwAQDh48WC7HCQ8PFwAIO3fuLJf9lcazZ8+EiIgImWUSiUTo0qWLIBaLhbS0NOnyq1evCllZWTJlHz9+LIjFYmHo0KHSZVlZWcLVq1cLHWvZsmUCAMHHx6eca0FE8sZbwERU7bVv3x4AEBYWBgDIzs7G4sWL0bx5cxgYGEBHRwft27fHpUuXCm2blJSEkSNHwsDAAIaGhhgxYgSSkpKKPM7FixfRvn176OjowNDQEH369MHDhw9lyixduhQikQhPnz7FyJEjYWhoCAMDA4waNQoZGRkfrIuDgwNq1qwps0wkEqFv377IysrCs2fPpMvbtGkDDQ0NmbJ169aFk5OTTFwaGhpo06ZNoWP169cPAArVgYiqPiaARFTtRUREAACMjIwAACkpKfj999/RqVMnrF69GkuXLsWrV6/g4eGBwMBA6XaCIKBPnz7Ys2cPvvzySyxfvhxRUVEYMWJEoWOcP38eHh4eiI+Px9KlSzFr1ixcu3YNbdu2lR7/XYMGDUJqaipWrlyJQYMGwcvLS+b2bWnFxsYCAExNTd9bThAExMXFfbBcafZJRFWQvJsgiYjKS8Et4PPnzwuvXr0SXrx4IRw5ckQwMzMTxGKx8OLFC0EQBCE3N7fQrdHExETBwsJCGD16tHTZiRMnBADCjz/+KF2Wm5srtG/fvtAt4KZNmwrm5ubCmzdvpMvu3bsnqKioCMOHD5cuW7JkiQBA5jiCIAj9+vUTTExMPqreb968EczNzYX27dt/sOyePXsEAMKOHTs+WNbd3V3Q19cXEhMTPyouIlJcbAEkomrH3d0dZmZmsLW1xYABA6Cjo4NTp07BxsYGAKCqqiq9NSqRSJCQkIDc3Fy4urrizp070v2cPXsWampqmDRpknSZqqoqpk6dKnO8mJgYBAYGYuTIkTA2NpYub9y4MT755BOcPXu2UIwTJ06Ued++fXu8efMGKSkppaqrRCLB0KFDkZSUhI0bN7637KNHjzB58mS4ubkV2Yr5rhUrVuD8+fNYtWoVDA0NSxUTESk+jgImompn06ZNqFevHpKTk/HHH3/g8uXLEIvFMmV27dqFNWvW4NGjR8jJyZEud3BwkP7/+fPnsLKygq6ursy2jo6OMu+fP39e5HIAaNCgAf7++2+kp6dDR0dHutzOzk6mXMHt6cTEROjr6yMhIQHZ2dnS9VpaWjAwMCi0/6lTp8Lb2xu7d+9GkyZNiv5AkH87t1evXjAwMMCRI0egqqpabNmDBw9i0aJFGDNmjEzyS0TVB1sAiajaadmyJdzd3fH555/j1KlTcHZ2xpAhQ5CWlgYA+PPPPzFy5EjUrl0bO3bsgLe3N3x8fNClSxdIJJJKibG4BEwQBABA//79YWVlJX1Nnz69UNlly5Zh8+bNWLVqFYYNG1bssZKTk9GjRw8kJSXB29sb1tbWxZb18fHB8OHD0atXL2zdurWUtSKiqoItgERUramqqmLlypXo3Lkzfv31V8yfPx9HjhxBrVq1cOzYMZn57ZYsWSKzbc2aNXHhwgWkpaXJtAKGhoYWKlfUciD/tqupqalM619JrFmzBomJidL3/03aNm3ahKVLl2LGjBmYN29esfvJzMxE79698fjxY5w/fx4NGzYstuyNGzfQr18/uLq64tChQ1BT4yWCqLpiCyARVXudOnVCy5YtsW7dOmRmZkpb3wpa24D85Mff319mu549eyI3NxdbtmyRLsvLyyvU187KygpNmzbFrl27ZKaICQ4Oxj///IOePXuWOubmzZvD3d1d+no3cTt48CCmTZuGoUOHYu3atcXuIy8vD4MHD4a/vz8OHz4MNze3Yss+fPgQvXr1gr29PU6fPg0tLa1Sx0xEVQe/3hGRUpg7dy4GDhwILy8vfPrppzh27Bj69euHXr16ITw8HFu3bkXDhg2lt4kBoHfv3mjbti3mz5+PiIgINGzYEMeOHUNycnKh/f/000/o0aMH3NzcMGbMGLx9+xYbN26EgYEBli5dWm71CAgIwPDhw2FiYoKuXbti7969MuvbtGmDWrVqAQBmz56NU6dOoXfv3khISMCff/4pU/bLL78EAKSmpsLDwwOJiYmYO3cuzpw5I1Oudu3a700eiagKkvcwZCKi8lLck0AEQRDy8vKE2rVrC7Vr1xZyc3OFFStWCDVr1hTEYrHQrFkz4fTp08KIESOEmjVrymz35s0bYdiwYYK+vr5gYGAgDBs2TLh7926RTwI5f/680LZtW0FLS0vQ19cXevfuLYSEhMiUKZgG5tWrV0XGHh4eXqI6Fvd6N6aOHTu+t2yBgiebFPcaMWLEe2MioqpHJAjv3AMhIiIiomqPfQCJiIiIlAwTQCIiIiIlwwSQiIiISMkwASQiIiJSMkwAiYiIiJQME0AiIiIiJcMEkIiIiEjJ8EkgSkwikeDly5fQ09OTeR4qERFRdSYIAlJTU2FtbQ0VFeVsC2MCqMRevnwJW1tbeYdBREQkFy9evICNjY28w5ALJoBKTE9PD0D+CaCvry/naIiIiCpHSkoKbG1tpddBZcQEUIkV3PbV19dnAkhEREpHmbs/KeeNbyIiIiIlxgSQiIiISMkwASQiIiJSMkwAiYiIiJQME0AiIiIiJcMEkIiIiEjJMAEkIiIiUjJMAImIiIiUDBNAIiIiIiXDBJDKTWpmDo7ejpJ3GERERPQBTACp3FwKfYXZh+/hWthreYdCRERE78EEkMpN78ZWcLEzxHd/hSBPIsg7HCIiIioGE0AqNyKRCEt6O+FRbCr+uvdS3uEQERFRMZgAUrlqYmsIJ2t9XH7ySt6hEBERUTGYAFK5a+lgjJsRCTLLsnMlSM7IkVNERERE9C4mgFTuWjkY40XCW8Qkv5UuW+vzGB7rLiMzJ0+OkRERERHABJAqgKu9MQAgIDy/FVAQBPx17yViUzJxMjBanqERERERmABSBTDVFaO2mY40AXzwMgXRSW9Rw1ALv11+BglHCBMREckVE0CqEC0djKUJoHdwLAy01LFmUBOEvUrHxUfxco6OiIhIuTEBpArR0sEYT+LTkJCejb8fxKJrA3O0rmUCFztD/PbvMwDAvRdJmHUwEMHRyXKOloiISLkwAaQK0eL/+wEevPkCT+LT0N3JEgAwvkMtBIQnYOTOAPTZdBVngmIw9PcbTAKJiIgqERNAqhA2RtqoYaiFzZeeQktdFR3qmQEAPmloidpmOnjwMgWr+jfCjW+6wt5Uh0kgERFRJWICSBWmhb0RUrNy0cnRDJrqqgAAVRURTkxui3+/7owvWtrBUFsDu0e3RE0TbXy54wZCXqbIOWoiIqLqjwkgVZiWDiYAgO7OljLL9TTVpQkhABhoqWPP6FawMdLC0N+v42EMk0AiIqKKxASQKkw3JwsMbG4D9wYWHyxroK2OP8e0grWhFob+fgOhsamVECEREZFyYgJIFcZUV4yfBjaBjlitROUNtTWwd2wrWOprYsj263gcxySQiIioIjABVABbtmxB48aNoa+vD319fbi5ueHcuXPv3ebw4cOoX78+NDU10ahRI5w9e7aSoq1YBUmgmZ4YQ7ZfxxMmgUREROWOCaACsLGxwapVq3D79m3cunULXbp0QZ8+ffDgwYMiy1+7dg2enp4YM2YM7t69i759+6Jv374IDg6u5MgrhpGOBvaNaw1TXTE8t9/A0/g0eYdERERUrYgEQeBzuRSQsbExfvrpJ4wZM6bQusGDByM9PR2nT5+WLmvdujWaNm2KrVu3lvgYKSkpMDAwQHJyMvT19csl7vL0Ji0LQ7bfQEJGNg6Mb43aZrryDomIiKoBRb/+VQa2ACqYvLw8HDhwAOnp6XBzcyuyjL+/P9zd3WWWeXh4wN/fvzJCrDQmumLsHdcKhlrq8PztOp69YksgERFReWACqCCCgoKgq6sLsViMiRMn4vjx42jYsGGRZWNjY2FhITuy1sLCArGxse89RlZWFlJSUmReis5UV4x941pDX0sdntuvI/x1urxDIiIiqvKYACoIR0dHBAYG4saNG5g0aRJGjBiBkJCQcj3GypUrYWBgIH3Z2tqW6/4ripmeGPvGtYKuWA2ev11HBJNAIiKiMmECqCA0NDRQp04dNG/eHCtXrkSTJk2wfv36IstaWloiLi5OZllcXBwsLS2LLF9gwYIFSE5Olr5evHhRbvFXNHM9Tewf1xraGqrw3H4dz98wCSQiIvpYTAAVlEQiQVZWVpHr3NzccOHCBZllPj4+xfYZLCAWi6VTzRS8qhJzfU3sH98amuqq+OI3zhNIRET0sZgAKoAFCxbg8uXLiIiIQFBQEBYsWABfX18MHToUADB8+HAsWLBAWn769Onw9vbGmjVr8OjRIyxduhS3bt3ClClT5FWFSmOhr4kD41vDQEsdA7Zcw/Vnb+QdEhERUZXDBFABxMfHY/jw4XB0dETXrl1x8+ZN/P333/jkk08AAJGRkYiJiZGWb9OmDfbt24fffvsNTZo0wZEjR3DixAk4OzvLqwqVykJfE4cmusHJ2gDDdwTg9P2X8g6JiIioSuE8gEqsqs+DlJWbh7mH7+Ov+y+xqFdDjGnnIO+QiIioCqjq17/yULKHtBIpILGaKtYNbgorQ018fzoEMUlv8U3PBlBREck7NCIiIoXGBJCqNBUVERb0aAArfU0sOx2C2JRMrBnUBGI1VXmHRkREpLDYB5CqhZFtHbB5iAv+CYnD8B0BSM7IkXdIRERECosJIFUbPRpZYe/YVngUm4qB267hZdJbeYdERESkkJgAUrXSwt4YRye5IT0rD/03X8OjWMV/3B0REVFlYwJI1U4dcz0c/6oNjHU0MHCLP66FvZZ3SERERAqFCSBVS+b6mjg4oTWa2hlixB8BOBkYLe+QiIiIFAYTQKq29DTVsWNEC/RubI3pBwLx2+UwcNpLIiIiTgND1ZyGmgrWDGoCSwNNrDj7CI/j0rCkd0PoaarLOzQiIiK5YQsgVXsikQhfd6+PHwc0xrmgGHRf9y/7BRIRkVJjAkhKY5CrLbxndEANIy0M2X4Dy/56gMycPHmHRUREVOmYAJJSsTXWxoFxrbGoVwPsvRGJnhv+xd3IRHmHRUREVKmYAJLSUVERYWz7Wjg7rR30xGr4fMs1/PT3I2TnSuQdGhERUaVgAkhKq465Ho5OaoMZ7vWwze8Z+my6iocxnDiaiIiqPyaApNTUVFUwrWtdnJjcFhKJgM9+vYLNvk+Rm8fWQCIiqr6YABIBcK5hgFNT22JMu1r4+e9QDNzmj/DX6fIOi4iIqEIwAST6f2I1VczvUR+HJ7ohIT0bPdZfxq5rEZBIOHk0ERFVL0wAif6jeU1jnJveHoNcbbHk1AMM++MGXqdlyTssIiKicsMEkKgI2hpq+K6PM/4c0wqhsWnou+kqnsSlyjssIiKicsEEkOg92tU1xckpbaErVkP/Lddw5QmfIEJERFUfE0CiD6hhqIXDE93gYmeEETsDsD8gUt4hERERlQkTQKIS0NNUx44RrhjS0g4LjgVh5dmHHBxCRERVlpq8AyCqKtRUVfBdHyc4mOrg+zMhiHiTjnWDm0FLQ1XeoREREZUKWwCJSkEkEmF0OwdsH+aKf5+8xuDf/BGfkinvsIiIiEqFCSDRR3BvaIFDE9wQl5KJvnyEHBERVTFMAIk+knMNA5yc3A5GOhoYsOUaLj2Kl3dIREREJcIEkKgMLA00cWiCG9xqm2DMrpvY7R8h75CIiIg+iAkgURnpiNWwbZgrRrZxwOKTD7D01APkcYQwEREpMI4CJioHqioiLO7dEA6m2lhy6gFeJGRgg2cz6Ih5ihERkeJhCyBRORrmZo8/RrbAjfAEDP7NH2/4DGEiIlJATACJylknR3McmuCG2ORMDP7tOuI4TQwRESkYJoBEFaChtT4OTXBDelYuBm71x4uEDHmHREREJMUEkKiC1DLTxaEJbhCJgIFb/RH2Kk3eIREREQFgAkhUoWyNtXFoghv0NNUweJs/J4wmIiKFwASQqIJZ6Gvi4AQ3WBpoYvA2f9yNTJR3SEREpOSYABJVAmMdDewb1xp1LfTw5e834B/2Rt4hERGREmMCSFRJ9DXVsWdMSzS1M8TInQG4FMpHxxERkXwwASSqRNoaatgxogXa1zXF+N23cC4oRt4hERGREmICSFTJNNVVseXL5ujubIXJ++7g6O0oeYdERERKhs+pIpIDdVUVrBvcFNrqqph9+B4ysnMxzM1e3mEREZGSYAJIJCeqKiKs7N8I2mJVfHvyAdKz8zCxY215h0VEREqACSCRHKmoiLD404bQFath1blHyMjKxcxP6kEkEsk7NCIiqsaYABLJmUgkwuxujtDWUMNq70fIzJVgQY/6TAKJiKjCMAEkUhCTOtWGproKlv0VApEImN+dSSAREVUMJoBECmRUWwdIBOD70yEQQYR53R2ZBBIRUbljAkikYMa0c4AgCFh+5iFEIuBrDyaBRERUvpgAEimgse1rAUB+EghgLpNAIiIqR5wIWgGsXLkSLVq0gJ6eHszNzdG3b1+Ehoa+dxsvLy+IRCKZl6amZiVFTJVhbPtaWNizATb7huHnf0IhCIK8QyIiomqCLYAKwM/PD5MnT0aLFi2Qm5uLb775Bt26dUNISAh0dHSK3U5fX18mUWQLUfUzrkMtCBCw4uwjqIhEmMUpYoiIqBwwAVQA3t7eMu+9vLxgbm6O27dvo0OHDsVuJxKJYGlpWdHhkZyN71AbggCsPPcIIoDzBBIRUZkxAVRAycnJAABjY+P3lktLS0PNmjUhkUjg4uKCFStWwMnJqdjyWVlZyMrKkr5PSUkpn4Cpwk3oWBsCgFXnHgH/3xJIRET0sZgAltKHkrL/EolEuHPnDmrWrFmi8hKJBDNmzEDbtm3h7OxcbDlHR0f88ccfaNy4MZKTk/Hzzz+jTZs2ePDgAWxsbIrcZuXKlVi2bFmp4ifFMbFjbUgEAT96h0JFBMxwZxJIREQfRySwZ3mpqKioYN26dTAwMPhgWUEQ8NVXXyE4OBi1atUq0f4nTZqEc+fO4cqVK8UmckXJyclBgwYN4Onpie+//77IMkW1ANra2iI5ORn6+volPhbJ16ZLT/HT36GY6V4P093ryjscIqIqJyUlBQYGBkp9/WML4Ef44osvYG5uXqKyU6dOLfF+p0yZgtOnT+Py5culSv4AQF1dHc2aNcPTp0+LLSMWiyEWi0u1X1I8kzvXAQD89HcoRCJgWlcmgUREVDpMAEtJIpGUqnxqauoHywiCgKlTp+L48ePw9fWFg4NDqePKy8tDUFAQevbsWeptqeqZ3LkOBEHAz/88hgjAVCaBRERUCkwAFcDkyZOxb98+nDx5Enp6eoiNjQUAGBgYQEtLCwAwfPhw1KhRAytXrgQAfPfdd2jdujXq1KmDpKQk/PTTT3j+/DnGjh0rt3pQ5ZrSpS4EAVjj8xgiUf57IiKikmACWEZPnjzBpUuXEB8fX6h1cPHixSXax5YtWwAAnTp1klm+c+dOjBw5EgAQGRkJFZX/zdudmJiIcePGITY2FkZGRmjevDmuXbuGhg0bfnxlqMqZ2rUuJALw8z+PoaepjhFt7OUdEhERVQEcBFIG27dvx6RJk2BqagpLS0uZudkKRv8qMnaCrR4EQcAPZx5ix9VwbPRshk8bW8s7JCIihcbrH1sAy2T58uX44YcfMG/ePHmHQkpMJBLhm54N8CY9GzMPBsJQSwPt6prKOywiIlJgfBZwGSQmJmLgwIHyDoMIKioi/DigMdrUNsWEPbdwPypJ3iEREZECYwJYBgMHDsQ///wj7zCIAADqqirY8qUL6lroYdTOmwh/nS7vkIiISEGxD2ApbdiwQfr/9PR0rF27Fr169UKjRo2grq4uU3batGmVHV6psA9E9ZSYno0BW68hK1eCY5PawFxfU94hEREpFF7/mACWWknn6BOJRHj27FkFR1M2PAGqr+iktxiw5RoMtNRxcIIbDLTUP7wREZGS4PWPCaBS4wlQvT2JS8WArf5wtNTD7tEtoamuKu+QiIgUAq9/7AP4UTp06IA1a9bgyZMn8g6FqFh1LfTwx8gWuB+VhGn77yI3r3RPsSEiouqLCeBHGDNmDK5duwYXFxc0aNAA8+bNw9WrV8HGVFI0zWsaYfNQF1x4FI9FJ4L5O0pERAB4C7hMsrKycOHCBZw8eRJ//fUX8vLy0KtXL3z22Wfw8PCQPsZNUbEJXHkcuR2FOYfvYWqXOpjdzVHe4RARyRWvf2wBLBOxWIyePXti27ZtePnyJU6dOgUrKyt8++23MDExwaeffoqrV6/KO0wiDGhugwU96mPjxafwuhou73CIiEjO+CSQctSqVSu0atUKP/zwA8LCwnDq1CnExMTIOywiAMCEjrXxOi0Ly06HwERXjN5N+Mg4IiJlxQSwDEaMGIExY8agQ4cOhdbVrl0bM2fOlENURMVb0KMB3qRlY9ahQBhqq6N9XTN5h0RERHLAW8BlkJycDHd3d9StWxcrVqxAdHS0vEMiei8VFRFWD2iMdnVMMWHPbT4yjohISTEBLIMTJ04gOjoakyZNwsGDB2Fvb48ePXrgyJEjyMnJkXd4REVSV1XBpqEucLTUw9hdtxCXkinvkIiIqJIxASwjMzMzzJo1C/fu3cONGzdQp04dDBs2DNbW1pg5cybnCiSFpK2hht+GuUJVRYTxe24jMydP3iEREVElYgJYTmJiYuDj4wMfHx+oqqqiZ8+eCAoKQsOGDfHLL7/IOzyiQsz0xPhtmCsexaTgm2NBnCOQiEiJMAEsg5ycHBw9ehSffvopatasicOHD2PGjBl4+fIldu3ahfPnz+PQoUP47rvv5B0qUZEa2RjgxwGNcexuNHZc4fQwRETKgqOAy8DKygoSiQSenp4ICAhA06ZNC5Xp3LkzDA0NKz02opLq07QGHsakYsXZh6hroYeO9TgymIiouuOTQMpgz549GDhwIDQ1NeUdykfhTOhUIE8iYOyum7j9PBEnp7SDg6mOvEMiIqowvP7xFnCZDBs2rMomf0TvUlURYb1nM5jqiTF2102kZnIUOxFRdcYE8CPExMRg4cKF0vft2rWDi4uL9NWiRQvOCUhVjr6mOn4f7or41CzMOBCIPAlvDhARVVdMAD/C5s2bkZiYKH1/7949tG/fHn369EGfPn2gqqrKkb9UJdUy08VGz2a4FBqPNf+EyjscIiKqIBwE8hFOnz6NDRs2yCybPn06atWqBQBo3bo1Zs2ahZ9//lke4RGVSSdHc8zrXh8rzz1CAyv9op8ZnJoK6OlVfnBERFQu2AL4ESIiIuDg4CB9/8knn0BH53+d5h0dHREezik1qOoa36EW+jWrgblH7iE4Oll25d27gIlJ/r9ERFQlMQH8CDk5OXj16pX0/bFjx2BhYSF9n5iYCBUVfrRUdYlEIqzs3wj1LPQwfvctvErN+t/K/fuBnBzgwAH5BUhERGXCLOUjODo64tq1a8Wu//fff1GvXr1KjIio/Gmqq2LbsObIzhPw1d7byM6VAIIAHDyYX+Dgwfz3RERU5TAB/AhffPEFFi9ejPv37xdad+/ePXz33Xfw9PSUQ2RE5cvKQAvbhjXHvRfJWHLqAYS7d4HIyPyVz58D9+7JN0AiIvoonAj6I+Tk5MDd3R3Xrl3DJ598AkdHRwBAaGgofHx84ObmhgsXLkBdXV3Okb4fJ8Kk93r0SJrgHXqjhq8jNfF94k0M27EcyMsDVFWBL74AeveW3a5JE6B+fTkETERUMrz+MQH8aNnZ2Vi7di0OHDiAx48fAwDq1q0LT09PzJw5E2KxWM4RfhhPAHqvAQOAo0elb5d2HY8/m/XEnoPfwu1F0Pu3O3y4EgIkIvo4vP4xAVRqPAHovZKTgQkTpH3+ckUqGD7oezw0t8ep3bNgmxxXeJsvvgC2bgUMDCo5WCKikuP1j30AK4S/vz+aNGki7zCIysbAIH/E7x9/AJqaUFNVwaaTq6CXlYFx/RchTUMrv5yaGqCpCezcCezbx+SPiKgKYAJYBioqKlBVVS30ateuHVJTU+UdHlHZiUTAqFFAYCCgrg6jzFTsOPodogwsMOPT2ZBABKir568fOTK/PBERKTw+CaQMjh8/LvM+Ly8PYWFhWL9+PVavXi2nqIgqgKoq8PYtAKDumxfYeOpHjB6wGD91GI55l3fltwISEVGVwb/aZdCnT58ilzdt2hTjx4/HwIEDKzkiogpy9CigogJIJICqKjo/u4Vv/Hbhh06jUC/hBfodPQp8/bW8oyQiohLiLeAKUKtWLbx+/VreYRCVn4MH85M/AOjQAbh9G2O13mBAkA/meUzBHe+r8o2PiIhKhQlgOcvKysLatWvx1VdfyTsUovIRGZn/3F9VVWD1auD8ecDFBaILF/BDe2s0jn2K8Q0H4mVImLwjJSKiEuI0MGVgZGQE0X86vaempiIvLw+GhoYyyxMSEioxspLhMHgqkaio/OlgliwBWrYstPr1ZX/0OfEchjXMcXhqB2hrsGcJESk2Xv/YB7BM1q1bJ+8QiCqejQ1w5kyxq007uGF7HScM2HoNcw7fw6+eLlBR4WhgIiJFxhZAJcZvQFSe/n4Qiwl7bmOGe13McK8n73CIiIrF6x/7AJba/fv3ISnoDF8CDx48QG5ubgVGRKQYPJwsMdfDEevOP8GZ+zHyDoeIiN6DCWApNWvWDG/evClxeTc3N0RGRlZgRESK46tOtfFZE2vMPhyIoKhkeYdDRETFYB/AUhIEAd9++y20tbVLVD47O7uCIyJSHCKRCD8OaIzn29IxbvctnJrSFub6mvIOi4iI/oN9AEupU6dOhUb+fsi+fftgZWVVQRF9PPaBoIoSl5KJPr9ehYWBJg6Obw1NdVV5h0REJMXrHxNApcYTgCpSUFQyBm67hu5OlvhlcNNSf3EiIqoovP6xDyARVZBGNgb4eWATnAh8iS1+nCSaiEiRsA8gEVWYTxtb43FcGn76OxR1zHTRzclS3iERERHYAqgQVq5ciRYtWkBPTw/m5ubo27cvQkNDP7jd4cOHUb9+fWhqaqJRo0Y4e/ZsJURLVDozutZFdydLTDtwFwHhivdEHCIiZcQEUAH4+flh8uTJuH79Onx8fJCTk4Nu3bohPT292G2uXbsGT09PjBkzBnfv3kXfvn3Rt29fBAcHV2LkRB+moiLCL4ObopmtEUZ73UTgiyR5h0REpPQ4CEQBvXr1Cubm5vDz80OHDh2KLDN48GCkp6fj9OnT0mWtW7dG06ZNsXXr1hIdh51gqTKlZ+Vi+B8BeBKXiv3jW8PJ2kDeIRGRkuL1jy2AZbZnzx60bdsW1tbWeP78OYD8ZwSfPHnyo/eZnJw/ga6xsXGxZfz9/eHu7i6zzMPDA/7+/sVuk5WVhZSUFJkXUWXREath56gWsDfVwbAd+YkgERHJBxPAMtiyZQtmzZqFnj17IikpCXl5eQAAQ0NDrFu37qP2KZFIMGPGDLRt2xbOzs7FlouNjYWFhYXMMgsLC8TGxha7zcqVK2FgYCB92draflSMRB9LX1Mdu0e3hLmeGEN+v4Hw18V3cyAioorDBLAMNm7ciO3bt2PhwoVQVf3fRLeurq4ICgr6qH1OnjwZwcHBOHDgQHmFKbVgwQIkJydLXy9evCj3YxB9iKG2Bv4c2wr6mmoYuv06ohIz5B0SEZHSYQJYBuHh4WjWrFmh5WKx+L0DOIozZcoUnD59GpcuXYKNjc17y1paWiIuLk5mWVxcHCwti59mQywWQ19fX+ZFJA+mumLsHdsaaqoqGLL9BmKTM+UdEhGRUmECWAYODg4IDAwstNzb2xsNGjQo8X4EQcCUKVNw/PhxXLx4EQ4ODh/cxs3NDRcuXJBZ5uPjAzc3txIfl0ieLA00sXdsK+TmSTD09+t4nZYl75CIiJQGE8AymDVrFiZPnoyDBw9CEAQEBATghx9+wIIFC/D111+XeD+TJ0/Gn3/+iX379kFPTw+xsbGIjY3F27dvpWWGDx+OBQsWSN9Pnz4d3t7eWLNmDR49eoSlS5fi1q1bmDJlSrnWkagi2RprY++41kjNzMWXv99AUka2vEMiIlIKnAamjPbu3YulS5ciLCz/UVfW1tZYtmwZxowZU+J9FPeM1J07d2LkyJEAgE6dOsHe3h5eXl7S9YcPH8aiRYsQERGBunXr4scff0TPnj1LfFwOgydF8SQuFYN/uw4bI63/7x+oLu+QiKga4/WPCWC5ycjIQFpaGszNzeUdSonxBCBF8uBlMjx/u466FnrYPboldMR8UiURVQxe/3gLuEy6dOmCpKQkAIC2trY0+UtJSUGXLl3kGBlR1eNkbYDdY1ohNDYVY3fdQmZOnrxDIiKqtpgAloGvry+yswv3WcrMzMS///4rh4iIqramtob4Y2QL3H2RiAl7biMrl0kgEVFF4D2Wj3D//n3p/0NCQmQmX87Ly4O3tzdq1Kghj9CIqryWDsb4fXgLjN51E9P238WvQ1ygrsrvqkRE5Yl9AD+CioqKdOBGUR+flpYWNm7ciNGjR1d2aKXCPhCkyC48jMOEPbfxaWMrrB3UFCoqRQ+WIiIqLV7/2AL4UcLDwyEIAmrVqoWAgACYmZlJ12loaMDc3FzmySBEVHpdG1hg3RdNMXX/XRhqa2BJ74bFjpgnIqLSYQL4EWrWrAkg/7m9RFRxPm1sjeS3OVh4PBiG2uqY4V5P3iEREVULTADLQUhICCIjIwsNCPnss8/kFBFR9TG0VU0kZeTgp79DYailjpFtP/ykHCIiej8mgGXw7Nkz9OvXD0FBQRCJRNL+gAW3qfLyOIKRqDx81ak2EtOzsfSvEBhqa6BvMw6yIiIqCw6tK4Pp06fDwcEB8fHx0NbWxoMHD3D58mW4urrC19dX3uERVRsikQgLezXAgOY2mHP4Hi49ipd3SEREVRoTwDLw9/fHd999B1NTU6ioqEBFRQXt2rXDypUrMW3aNHmHR1StiEQirOrfCJ3rm2Pin7dxMyJB3iEREVVZTADLIC8vD3p6egAAU1NTvHz5EkD+IJHQ0FB5hkZULampqmCjZzM0szPEaK+bCHmZIu+QiIiqJCaAZeDs7Ix79+4BAFq1aoUff/wRV69exXfffYdatWrJOTqi6klTXRXbh7vC3kQHw/8IQMTrdHmHRERU5TABLINFixZJp4L57rvvEB4ejvbt2+Ps2bPYsGGDnKMjqr70NNXhNaoF9DXV8OWOG4hLyZR3SEREVQqfBFLOEhISYGRkVCUmrOVM6FTVRSe9xYAt16CvqY6DE1rDUFtD3iERURXA6x9bAD9aTk4O1NTUEBwcLLPc2Ni4SiR/RNVBDUMt7BnTEvGpmRjtdRMZ2bnyDomIqEpgAviR1NXVYWdnx7n+iOSsjrkevEa1RGhsKibsuY3sXD6hh4joQ5gAlsHChQvxzTffICGB01EQyVMTW0P8NtwVN54lYOahQORJ2LOFiOh92AewDJo1a4anT58iJycHNWvWhI6Ojsz6O3fuyCmykmEfCKpuvINj8dXe2/iipR1+6OvM7hhEVCRe//gouDLp27evvEMgond0d7bEqv6N8fXR+8jNk2BFv0ZQU+WNDiKi/2ICWAZLliyRdwhE9B+DWthCTVWEr4/cx5u0bPw6xAVaGqryDouISKHwqzERVTv9XWzw+whX+D97g6G/X0diera8QyIiUihMAImoWurkaI5941oj4k0GBm7zx8ukt/IOiYhIYTABJKJqq6mtIY5MdENmTh76b76Gx3Gp8g6JiEghMAEkomqtlpkujk1qA0NtdQzYcg23IjhtExERE8BykJ2djdDQUOTm8ikERIrIXF8Thya6oYGVPob+fgM+IXHyDomISK6YAJZBRkYGxowZA21tbTg5OSEyMhIAMHXqVKxatUrO0RHRu/Q11bFrdEt0qW+OCXtu4UBApLxDIiKSGyaAZbBgwQLcu3cPvr6+0NTUlC53d3fHwYMH5RgZERVFU10Vvw5xwZBWdph/LAgbLzwB58InImXEeQDL4MSJEzh48CBat24t88QBJycnhIWFyTEyIiqOqooI3/dxhrmeJtb4PMartCws6e0EVRU+NYSIlAcTwDJ49eoVzM3NCy1PT0/nI6iIFJhIJMK0rnVhpifGwuNBeJ2WhbWDmkJTnRNGE5Fy4C3gMnB1dcWZM2ek7wuSvt9//x1ubm7yCouISsizpR22fNkcFx7GY+TOAKRk5sg7JCKiSsEWwDJYsWIFevTogZCQEOTm5mL9+vUICQnBtWvX4OfnJ+/wiKgEPJws8efYVhjjdRODtvrj9xGusDHSlndYREQVii2AZdCuXTsEBgYiNzcXjRo1wj///ANzc3P4+/ujefPm8g6PiEqohb0xjk5qg/TsXPTddBW3n3OuQCKq3kQCh8AprZSUFBgYGCA5ORn6+vryDodI7hLSszFxz20EvkjCyv6N8HlzG3mHREQVgNc/tgCWyZ07dxAUFCR9f/LkSfTt2xfffPMNsrP58HmiqsZYRwN/jm2Fvs2sMfvwPaw69wh5En5HJqLqhwlgGUyYMAGPHz8GADx79gyDBw+GtrY2Dh8+jK+//lrO0RHRx9BQU8HqzxtjUa8G2HY5DBP23EZaFp/yQ0TVCxPAMnj8+DGaNm0KADh8+DA6duyIffv2wcvLC0ePHpVvcET00UQiEca2r4UdI1xx/dkbDNhyDVGJGfIOi4io3DABLANBECCRSAAA58+fR8+ePQEAtra2eP36tTxDI6Jy0KW+BY59xcEhRFT9MAEsA1dXVyxfvhx79uyBn58fevXqBQAIDw+HhYWFnKMjovJQz0IPJ75qi1qmuvD87QaO3o6Sd0hERGXGBLAM1q1bhzt37mDKlClYuHAh6tSpAwA4cuQI2rRpI+foiKi8mOiK8efYVujT9H+DQyQcHEJEVRingakAmZmZUFVVhbq6urxDeS8OgycqHUEQ8Pu/4Vhx7iHcG1hg3eCm0BFzPn2iqobXPz4JpFzcvn0bDx8+BAA0bNgQLi4uco6IiCqCSCTCuA61UMtMB9P238XnW67xySFEVCWxBbAM4uPjMXjwYPj5+cHQ0BAAkJSUhM6dO+PAgQMwMzOTb4AfwG9ARB8vNDYVY3bdRGZOHjYPbY6WDsbyDomISojXP/YBLJOpU6ciLS0NDx48QEJCAhISEhAcHIyUlBRMmzZN3uERUQVytNTDycltUdtMF57br+O3y2Hg92kiqirYAlgGBgYGOH/+PFq0aCGzPCAgAN26dUNSUpJ8AishfgMiKrvcPAl+/ucxtvqFoVtDC/w0sAkMtBS7/y+RsuP1jy2AZSKRSIoc6KGuri6dH5CIqjc1VRXM71Ef24e7wv/ZG3z26xU8eJks77CIiN6LCWAZdOnSBdOnT8fLly+ly6KjozFz5kx07dpVjpERUWX7pKEFzkxtD12xGvptvoaDNyPlHRIRUbGYAJbBr7/+ipSUFNjb26N27dqoXbs2HBwckJKSgo0bN5ZqX5cvX0bv3r1hbW0NkUiEEydOvLe8r68vRCJRoVdsbGwZakREZWFnoo2jk9rgc5camHc0CHMP38Pb7Dx5h0VEVAingSkDW1tb3LlzB+fPn8ejR48AAA0aNIC7u3up95Weno4mTZpg9OjR6N+/f4m3Cw0Nlem/YG5uXupjE1H50VRXxcr+jdG8pjEWnQhCUHQytnzZHA6mOvIOjYhIioNAFJBIJMLx48fRt2/fYsv4+vqic+fOSExMlE5BU1rsBEtUsR7FpmDSn3fwOjULPw1sjO7OVvIOiYjA6x/AW8AfTSKR4I8//sCnn34KZ2dnNGrUCJ999hl2795dqVNBNG3aFFZWVvjkk09w9erV95bNyspCSkqKzIuIKk59S32cmtIW7euZYuKfd7D8dAhy8jhAjIjkjwngRxAEAZ999hnGjh2L6OhoNGrUCE5OTnj+/DlGjhyJfv36VXgMVlZW2Lp1K44ePYqjR4/C1tYWnTp1wp07d4rdZuXKlTAwMJC+bG1tKzxOImWnp6mOTUNc8O2nDeF1LQKev11HbHKmvMMiIiXHW8AfYefOnZg+fTpOnjyJzp07y6y7ePEi+vbti19//RXDhw//qP2X5BZwUTp27Ag7Ozvs2bOnyPVZWVnIysqSvk9JSYGtra1SN4ETVabbzxMwee9d5ORJsMGzGdrWMZV3SERKibeA2QL4Ufbv349vvvmmUPIH5E8NM3/+fOzdu7fS42rZsiWePn1a7HqxWAx9fX2ZFxFVnuY1jXFmWjs0tNbHlztuYLX3I2Tn8pYwEVU+JoAf4f79++jevXux63v06IF79+5VYkT5AgMDYWXFTuZEisxEVwyvUS3xtUd9bL/8DP23XMXT+DR5h0VESobTwHyEhIQEWFhYFLvewsICiYmJpdpnWlqaTOtdeHg4AgMDYWxsDDs7OyxYsADR0dHYvXs3AGDdunVwcHCAk5MTMjMz8fvvv+PixYv4559/Pq5SRFRpVFVEmNSpNtrXNcW0A3fx6cZ/sbBnA3zZuiZEIpG8wyMiJcAE8CPk5eVBTa34j05VVRW5ubml2uetW7dkbinPmjULADBixAh4eXkhJiYGkZH/e7JAdnY2Zs+ejejoaGhra6Nx48Y4f/58kbeliUgxOdcwwJmp7bHi7EN8e/IBLoW+wurPG8NMTyzv0IiomuMgkI+goqKCHj16QCwu+o90VlYWvL29kZen2E8AYCdYIsVx8VEcvj5yH4IA/DigMbo2KP4uAxGVDa9/TAA/yqhRo0pUbufOnRUcSdnwBCBSLK/TsjDvyH1ceBSPoa3ssKhXQ2hpqMo7LKJqh9c/JoBKjScAkeIRBAF7b0Ri+ZkQWBtqYf3gZmhkYyDvsIiqFV7/OAqYiEihiEQifNm6Jk5PbQ9tDVX023wVmy49RZ6E39WJqPwwASQiUkB1zHVxbFJbjO9QCz//EwrP364jKjFD3mERUTXBBJCISEFpqKng6+71cXC8G6KT3qLHun9x6NYLSNgaSERlxASQiEjBtXQwxrkZ7fGJkwW+PnIfg7b5I+RlirzDIqIqjAkgEVEVoK+pjrWDmmL/uNZIfpuDTzf+i6WnHiAlM0feoRFRFcQEkIioCnGrbYKz09tjfo/6OHTrBbr87Ifjd6PACR2IqDSYABIRVTHqqioY36E2LszuiNa1jDHz4D0M3nYdj2J5W5iISoYJIBFRFWVloIVfh7hg79hWeJOehV4bruD70yFI5W1hIvoAJoBERFVc2zqmODe9A+Z0c8S+G5HousYPJwOjeVuYiIrFBJCIqBrQUFPBpE75t4Wb1zTC9AOB8Nx+HU/iUuUdGhEpICaARETViLWhFrZ82Ry7RrdEXEoWeqz/FyvOPkR6Vq68QyMiBcIEkIioGupYzwzeM9pj5if1sNs/Al3X+OHM/RjeFiYiAEwAiYiqLbGaKiZ3rgOfmR3hXMMAk/fdwfA/AhD+Ol3eoRGRnDEBJCKq5myNtfH7CFf8PtwV4a/T4fHLZaz9JxSZOXnyDo2I5IQJIBGRknBvaAGfmR0xoWMtbPV7hk9+8cOFh3HyDouI5IAJIBGREtHSUMXsbo7wntEe9iY6GLPrFsbtvoWoxAx5h0ZElYgJIBGREqplpovdo1ti0xAX3I9KgvtaP2y69BRZubwtTKQMmAASESkpkUiEXo2tcGF2J3zZqibW+jxGj/X/4urT1/IOjYgqGBNAIiIlpytWw6JPG+LMtHYw0dHA0N9vYMq+O4hLyZR3aERUQUQCJ4VSWikpKTAwMEBycjL09fXlHQ4RKQBBEHD0TjRWnn2I9OxcDGlZE+M71IKlgaa8QyMqN7z+MQFUajwBiKg4yRk52HE1HF5Xw5GZI8FAVxtM7Fgbtsba8g6NqMx4/WMCqNR4AhDRh6Rk5mCP/3PsuBKO5Lc56NesBr7qVBu1zHTlHRrRR+P1jwmgUuMJQEQllZGdi303IvHb5Wd4nZaFXo2tMblzbdS35N8Oqnp4/WMCqNR4AhBRaWXm5OHw7Shs9Q1DdNJbdGtogSld6qCxjaG8QyMqMV7/mAAqNZ4ARPSxcvIkOH43GpsvPUXEmwx0rGeGqV3qwNXeWN6hEX0Qr39MAJUaTwAiKqs8iYDT919i06WneByXhta1jPFVpzpoX9cUIpFI3uERFYnXPyaASo0nABGVF4lEwD8hcfj10hMER6eggZU+JnashV6NrKCmyilnSbHw+scEUKnxBCCi8iYIAq6FvcG2y89w+fEr1DDUwph2DhjcwhY6YjV5h0cEgNc/gAmgUuMJQEQVKeRlCn67HIa/7sdAV6yG4W41MaKNPUx1xfIOjZQcr39MAJUaTwAiqgxRiRn440oEDtyMRJ5EwIDmNhjXvhbsTXXkHRopKV7/mAAqNZ4ARFSZkjKysfdGJHZeDceb9Gx0d7LE+A610MzOSN6hkZLh9Y8JoFLjCUBE8pCZk4djd6Kx/d9nCH+djpYOxpjQoRY6O5pDRYUjh6ni8frHBFCp8QQgInnKkwjwCYnDtsthuBuZhFqmOhjV1h79XWw4YIQqFK9/TACVGk8AIlIEgiDg9vNE7LwagXPB+QNGPFvaYXgbe9Qw1JJ3eFQN8frHBFCp8QQgIkUTlZiBPf7PsT8gEunZefBwssDotg5oXtOIE0tTueH1jwmgUuMJQESKKiM7F0fvRGPn1XA8e5WOxjYGGN3WAT0bWUFDjRNLU9nw+scEUKnxBCAiRSeRCPB78gp/XAnHv09ew1xPjOFuNeHZ0g4mnE+QPhKvf0wAlRpPACKqSh7HpWLn1QgcuxMFAUC/pjUwoo09Glrz7xeVDq9/TACVGk8AIqqKEtOzsS8gEnv8nyM2JRONahhgkKsNPmtaAwZa6vIOj6oAXv+YACo1ngBEVJXl5Elw6VE8Dt2KwqXQeKipiNDd2RKDXW3RupYJ5xSkYvH6xwRQqfEEIKLqIj4lE8fuRuPQzRd49jodtsZaGNjcFp83t+FUMlQIr39MAJUaTwAiqm4K5hQ8ePMFzgTF4G1OHtrXNcMgVxt80tACYjVVeYdICoDXPyaASo0nABFVZ2lZuThz/yUO3nyBO5FJMNRWR9+mNTC4hS0aWPFvnjLj9Y8JoFLjCUBEyuJpfCoO3YrCsTtReJ2WDSdrfXzuYoPPmlrDlNPJKB1e/wDOpqkgLl++jN69e8Pa2hoikQgnTpz44Da+vr5wcXGBWCxGnTp14OXlVeFxEhFVRXXM9fBNzwbwX9AVvw1rDhsjLaw89xCtV1zA2F03cS4oBlm5efIOk6jS8GnbCiI9PR1NmjTB6NGj0b9//w+WDw8PR69evTBx4kTs3bsXFy5cwNixY2FlZQUPD49KiJiIqOpRV1VBNydLdHOyREJ6Nv669xJH70Rh0t47MNBSR+8mVvjcxQZNbQ356Dmq1ngLWAGJRCIcP34cffv2LbbMvHnzcObMGQQHB0uXffHFF0hKSoK3t3eJjsMmcCKifE/iUnH0TjSO341CXEoWapnp4HMXG/RrVgPWHEVc7fD6xxbAKsvf3x/u7u4yyzw8PDBjxoxit8nKykJWVpb0fUpKSkWFR0RUpdS10MP8HvUx18MRV5++xrE7Udh48Ql+/icUbWqb4HMXG3R3toS2Bi+bVD3wN7mKio2NhYWFhcwyCwsLpKSk4O3bt9DSKvyNdeXKlVi2bFllhUhEVOWoqojQoZ4ZOtQzQ2pmDs4FxeLInSjMOnQP3xwPQrs6ZvikoTk61zeHuZ6mvMMl+mhMAJXIggULMGvWLOn7lJQU2NrayjEiIiLFpaepjkEtbDGohS1eJGTg9P0YXHgYh/nHgiAIQFNbQ7g3MId7Qws4WuixzyBVKUwAqyhLS0vExcXJLIuLi4O+vn6RrX8AIBaLIRZzugMiotKyNdbGpE61MalTbbxJy8Kl0Fc4HxKHzb5h+Pmfx7Ax0oJ7Awt0bWCOVg4m0FDjJBuk2JgAVlFubm44e/aszDIfHx+4ubnJKSIiIuVgoivGgOY2GNDcBpk5ebj+7A0uPIzH3w9i4XUtAnpiNXRwNIN7A3N0djSHobaGvEMmKoSjgBVEWloanj59CgBo1qwZ1q5di86dO8PY2Bh2dnZYsGABoqOjsXv3bgD508A4Oztj8uTJGD16NC5evIhp06bhzJkzJZ4GhqOgiIjKjyAICIlJwfmQeFx4FIf7UclQEQEtHYzR3ckSHs6WsDLgiGJFwOsfE0CF4evri86dOxdaPmLECHh5eWHkyJGIiIiAr6+vzDYzZ85ESEgIbGxs8O2332LkyJElPiZPACKiihOXkonzD+Pwz4M4XAt7jZw8AU1tDdHD2RLdnS1R00RH3iEqLV7/mAAqNZ4ARESVI/ltDi4+isO5oFj4PX6FrFwJ6lvqoYezFbo7W6KehS4HkVQiXv+YACo1ngBERJUvIzsXfqGvcC44FhcfxSMtKxe1THXg4WyJ7k6WaGxjwGSwgvH6xwRQqfEEICKSr6zcPFx7+gbngmPgExKHxIwcWBtowsPZEl3rW6CFgxHEaqryDrPa4fWPCaBS4wlARKQ4cvMkCIhIgHdwLP55EIfYlExoa6iibR1TdHY0RydHMz6Wrpzw+scEUKnxBCAiUkyCIOBRbCouhcbD99Er3I5MRJ5EQH1LPXRyNEdnRzO41DSCuirnG/wYvP4xAVRqPAGIiKqG5Iwc/Pv0FS49egW/x/F4nZYNPU01dKhrhk6OZujoaMZH05UCr39MAJUaTwAioqpHIhEQ/DIZlx69wqXQeNyLSoIgAI1qGKBjPTO0qWMCFzsjaKqz72BxeP1jAqjUeAIQEVV9b9KycPnJK1x89ApXn75GQno2xGoqcLU3QpvapmhbxxTO1vpQ4+1iKV7/mAAqNZ4ARETVi0SS33fwWthrXH36GgHhCUjPzoOephpaOZigbR0TtK1jirrmyj3vIK9/TACVGk8AIqLqLSdPgvtRSbj69A2uhb3GnedJyM6TwFRXjDa18xPCNrVNYWusLe9QKxWvf0wAlRpPACIi5fI2Ow+3nifgWtgbXHv6GkHRyZAIgK2xFtrUMkWbOiZwq2UCc/3qPaCE1z9ATd4BEBERUeXQ0lBF+7pmaF/XDED+I+quP3sD/7D818FbLwAAtc100Ka2KdrUNkHrWiYw0tGQZ9hUAdgCqMT4DYiIiN71KjUL15+9wbWwN/APe42INxkAgIZW+nCrbYI2tU3Q0sEYeprqco60bHj9YwKo1HgCEBHR+7xMegv/sPyE8FrYa8QkZ0JVRYRGNQzgVtsELe2N4WJnBAPtqpUQ8vrHBFCp8QQgIqKSEgQBz99kSJPB688S8DotCyIRUM9cD672RmhhbwxXeyPUMNRS6FHGvP4xAVRqPAGIiOhjFSSEt54n4lZEAm5GJCDsVToAwMpAE81r/i8hrG+pD1UVxUkIef1jAqjUeAIQEVF5epOWhdvPE3H7eSJuRiQgKDoZOXkCdMVqcKlpBNeaRmhe0wiNbQzk2o+Q1z8mgEqNJwAREVWkzJw83HuRJG0lvPU8EamZuRCJgDpmumhia4im//9ytNSDeiU9rYTXP04DQ0RERBVEU10VrWqZoFUtEwD5TyoJe5WGwBdJCHyRhHtRSThxNxq5EgFiNRU0qmEgkxTaGCl2X8KqjC2ASozfgIiISN4yc/IQHJ0skxS+SHgLADDR0ZAmhL2bWMPBVKdcjsnrH1sAiYiISI401VXham8MV3tj6bLXaVm4H5WEwMgk3H2RhN//fQbnGvrllgASE0AiIiJSMKa6YnSpb4Eu9S0A5I84lvB+ZbliAkhEREQKTSQSQZVdActV5Qy3ISIiIiKFwQSQiIiISMkwASQiIiJSMkwAiYiIiJQME0AiIiIiJcMEkIiIiEjJMAEkIiIiUjJMAImIiIiUDBNAIiIiIiXDBJCIiIhIyfBRcEpMEPIfrJiSkiLnSIiIiCpPwXWv4DqojJgAKrHU1FQAgK2trZwjISIiqnypqakwMDCQdxhyIRKUOf1VchKJBC9fvoSenh5EorI9ZTslJQW2trZ48eIF9PX1yylC+auu9QKqb92qa72A6lu36lovoPrWrarXSxAEpKamwtraGioqytkbji2ASkxFRQU2Njbluk99ff0q+cfgQ6prvYDqW7fqWi+g+tatutYLqL51q8r1UtaWvwLKmfYSERERKTEmgERERERKhgkglQuxWIwlS5ZALBbLO5RyVV3rBVTfulXXegHVt27VtV5A9a1bda2XMuEgECIiIiIlwxZAIiIiIiXDBJCIiIhIyTABJCIiIlIyTACJiIiIlAwTQCoXmzZtgr29PTQ1NdGqVSsEBATIO6RSWblyJVq0aAE9PT2Ym5ujb9++CA0NlSmTmZmJyZMnw8TEBLq6uvj8888RFxcnp4g/zqpVqyASiTBjxgzpsqpcr+joaHz55ZcwMTGBlpYWGjVqhFu3bknXC4KAxYsXw8rKClpaWnB3d8eTJ0/kGPGH5eXl4dtvv4WDgwO0tLRQu3ZtfP/99zLPLK0q9bp8+TJ69+4Na2triEQinDhxQmZ9SeqRkJCAoUOHQl9fH4aGhhgzZgzS0tIqsRaFva9eOTk5mDdvHho1agQdHR1YW1tj+PDhePnypcw+FLFewId/Zu+aOHEiRCIR1q1bJ7NcUetGspgAUpkdPHgQs2bNwpIlS3Dnzh00adIEHh4eiI+Pl3doJebn54fJkyfj+vXr8PHxQU5ODrp164b09HRpmZkzZ+Kvv/7C4cOH4efnh5cvX6J///5yjLp0bt68iW3btqFx48Yyy6tqvRITE9G2bVuoq6vj3LlzCAkJwZo1a2BkZCQt8+OPP2LDhg3YunUrbty4AR0dHXh4eCAzM1OOkb/f6tWrsWXLFvz66694+PAhVq9ejR9//BEbN26Ulqkq9UpPT0eTJk2wadOmIteXpB5Dhw7FgwcP4OPjg9OnT+Py5csYP358ZVWhSO+rV0ZGBu7cuYNvv/0Wd+7cwbFjxxAaGorPPvtMppwi1gv48M+swPHjx3H9+nVYW1sXWqeodaP/EIjKqGXLlsLkyZOl7/Py8gRra2th5cqVcoyqbOLj4wUAgp+fnyAIgpCUlCSoq6sLhw8flpZ5+PChAEDw9/eXV5gllpqaKtStW1fw8fEROnbsKEyfPl0QhKpdr3nz5gnt2rUrdr1EIhEsLS2Fn376SbosKSlJEIvFwv79+ysjxI/Sq1cvYfTo0TLL+vfvLwwdOlQQhKpbLwDC8ePHpe9LUo+QkBABgHDz5k1pmXPnzgkikUiIjo6utNjf57/1KkpAQIAAQHj+/LkgCFWjXoJQfN2ioqKEGjVqCMHBwULNmjWFX375RbquqtSNBIEtgFQm2dnZuH37Ntzd3aXLVFRU4O7uDn9/fzlGVjbJyckAAGNjYwDA7du3kZOTI1PP+vXrw87OrkrUc/LkyejVq5dM/EDVrtepU6fg6uqKgQMHwtzcHM2aNcP27dul68PDwxEbGytTNwMDA7Rq1Uqh69amTRtcuHABjx8/BgDcu3cPV65cQY8ePQBU3Xr9V0nq4e/vD0NDQ7i6ukrLuLu7Q0VFBTdu3Kj0mD9WcnIyRCIRDA0NAVTtekkkEgwbNgxz586Fk5NTofVVuW7KRk3eAVDV9vr1a+Tl5cHCwkJmuYWFBR49eiSnqMpGIpFgxowZaNu2LZydnQEAsbGx0NDQkP4BL2BhYYHY2Fg5RFlyBw4cwJ07d3Dz5s1C66pyvZ49e4YtW7Zg1qxZ+Oabb3Dz5k1MmzYNGhoaGDFihDT+on43Fblu8+fPR0pKCurXrw9VVVXk5eXhhx9+wNChQwGgytbrv0pSj9jYWJibm8usV1NTg7GxcZWpa2ZmJubNmwdPT0/o6+sDqNr1Wr16NdTU1DBt2rQi11fluikbJoBE/zF58mQEBwfjypUr8g6lzF68eIHp06fDx8cHmpqa8g6nXEkkEri6umLFihUAgGbNmiE4OBhbt27FiBEj5Bzdxzt06BD27t2Lffv2wcnJCYGBgZgxYwasra2rdL2UUU5ODgYNGgRBELBlyxZ5h1Nmt2/fxvr163Hnzh2IRCJ5h0NlxFvAVCampqZQVVUtNGo0Li4OlpaWcorq402ZMgWnT5/GpUuXYGNjI11uaWmJ7OxsJCUlyZRX9Hrevn0b8fHxcHFxgZqaGtTU1ODn54cNGzZATU0NFhYWVbJeAGBlZYWGDRvKLGvQoAEiIyMBQBp/VfvdnDt3LubPn48vvvgCjRo1wrBhwzBz5kysXLkSQNWt13+VpB6WlpaFBpPl5uYiISFB4etakPw9f/4cPj4+0tY/oOrW699//0V8fDzs7Oykf0+eP3+O2bNnw97eHkDVrZsyYgJIZaKhoYHmzZvjwoUL0mUSiQQXLlyAm5ubHCMrHUEQMGXKFBw/fhwXL16Eg4ODzPrmzZtDXV1dpp6hoaGIjIxU6Hp27doVQUFBCAwMlL5cXV0xdOhQ6f+rYr0AoG3btoWm6nn8+DFq1qwJAHBwcIClpaVM3VJSUnDjxg2FrltGRgZUVGT/NKuqqkIikQCouvX6r5LUw83NDUlJSbh9+7a0zMWLFyGRSNCqVatKj7mkCpK/J0+e4Pz58zAxMZFZX1XrNWzYMNy/f1/m74m1tTXmzp2Lv//+G0DVrZtSkvcoFKr6Dhw4IIjFYsHLy0sICQkRxo8fLxgaGgqxsbHyDq3EJk2aJBgYGAi+vr5CTEyM9JWRkSEtM3HiRMHOzk64ePGicOvWLcHNzU1wc3OTY9Qf591RwIJQdesVEBAgqKmpCT/88IPw5MkTYe/evYK2trbw559/SsusWrVKMDQ0FE6ePCncv39f6NOnj+Dg4CC8fftWjpG/34gRI4QaNWoIp0+fFsLDw4Vjx44Jpqamwtdffy0tU1XqlZqaKty9e1e4e/euAEBYu3atcPfuXelo2JLUo3v37kKzZs2EGzduCFeuXBHq1q0reHp6yqtKgiC8v17Z2dnCZ599JtjY2AiBgYEyf0+ysrKk+1DEegnCh39m//XfUcCCoLh1I1lMAKlcbNy4UbCzsxM0NDSEli1bCtevX5d3SKUCoMjXzp07pWXevn0rfPXVV4KRkZGgra0t9OvXT4iJiZFf0B/pvwlgVa7XX3/9JTg7OwtisVioX7++8Ntvv8msl0gkwrfffitYWFgIYrFY6Nq1qxAaGiqnaEsmJSVFmD59umBnZydoamoKtWrVEhYuXCiTPFSVel26dKnI82rEiBGCIJSsHm/evBE8PT0FXV1dQV9fXxg1apSQmpoqh9r8z/vqFR4eXuzfk0uXLkn3oYj1EoQP/8z+q6gEUFHrRrJEgvDO9PJEREREVO2xDyARERGRkmECSERERKRkmAASERERKRkmgERERERKhgkgERERkZJhAkhERESkZJgAEhERESkZJoBEJKNTp06YMWOGvMOQO5FIhBMnTsg1hoiICIhEIgQGBgIAfH19IRKJCj27uToaOXIkRCJRpf0cOnXqJD1ewedNVJ0xASSq5goupBMnTiy0bvLkyRCJRBg5cqR02bFjx/D9999XYoSKKSYmBj169JB3GDLatGmDmJgYGBgYyDuUSvmi0L1790r7ORw7dgwBAQEVfhwiRcEEkEgJ2Nra4sCBA3j79q10WWZmJvbt2wc7OzuZssbGxtDT0/uo4wiCgNzc3DLFWpzs7OwK2W9xLC0tIRaLK/WYH6KhoQFLS0uIRCJ5h1Ju3vdzFYvFlfZzMDY2hpmZWYUfh0hRMAEkUgIuLi6wtbXFsWPHpMuOHTsGOzs7NGvWTKbsf1t2srKyMG/ePNja2kIsFqNOnTrYsWMHgP/dkjx37hyaN28OsViMK1euICsrC9OmTYO5uTk0NTXRrl073Lx5U+Y4fn5+aNmyJcRiMaysrDB//nyZ5LFTp06YMmUKZsyYAVNTU3h4eAAATp06hbp160JTUxOdO3fGrl27ZG6LvnnzBp6enqhRowa0tbXRqFEj7N+/v1Adp02bhq+//hrGxsawtLTE0qVLZcq8e+sxOzsbU6ZMgZWVFTQ1NVGzZk2sXLlSpuy2bdvw6aefQltbGw0aNIC/vz+ePn2KTp06QUdHB23atEFYWNh7f04BAQFo1qwZNDU14erqirt378qs/+8t4JLWderUqZgxYwaMjIxgYWGB7du3Iz09HaNGjYKenh7q1KmDc+fOyWwXHByMHj16QFdXFxYWFhg2bBhev34NIL9V2c/PD+vXr5feNo2IiPjgdu/7uZZEUbfAAwMDZY7v5eUFQ0NDnD59Go6OjtDW1saAAQOQkZGBXbt2wd7eHkZGRpg2bRry8vJKfGyi6oYJIJGSGD16NHbu3Cl9/8cff2DUqFEf3G748OHYv38/NmzYgIcPH2Lbtm3Q1dWVKTN//nysWrUKDx8+ROPGjfH111/j6NGj2LVrF+7cuYM6derAw8MDCQkJAIDo6Gj07NkTLVq0wL1797Blyxbs2LEDy5cvl9nvrl27oKGhgatXr2Lr1q0IDw/HgAED0LdvX9y7dw8TJkzAwoULZbbJzMxE8+bNcebMGQQHB2P8+PEYNmxYodt7u3btgo6ODm7cuIEff/wR3333HXx8fIr8DDZs2IBTp07h0KFDCA0Nxd69e2Fvby9T5vvvv8fw4cMRGBiI+vXrY8iQIZgwYQIWLFiAW7duQRAETJkypdjPOS0tDZ9++ikaNmyI27dvY+nSpZgzZ857fzalqaupqSkCAgIwdepUTJo0CQMHDkSbNm1w584ddOvWDcOGDUNGRgYAICkpCV26dEGzZs1w69YteHt7Iy4uDoMGDQIArF+/Hm5ubhg3bhxiYmIQExMDW1vbD273bjzv/lzLW0ZGBjZs2IADBw7A29sbvr6+6NevH86ePYuzZ89iz5492LZtG44cOVLuxyaqMgQiqtZGjBgh9OnTR4iPjxfEYrEQEREhRERECJqamsKrV6+EPn36CCNGjJCW79ixozB9+nRBEAQhNDRUACD4+PgUue9Lly4JAIQTJ05Il6WlpQnq6urC3r17pcuys7MFa2tr4ccffxQEQRC++eYbwdHRUZBIJNIymzZtEnR1dYW8vDxpHM2aNZM53rx58wRnZ2eZZQsXLhQACImJicV+Br169RJmz54tU8d27drJlGnRooUwb9486XsAwvHjxwVBEISpU6cKXbp0kYn3XQCERYsWSd/7+/sLAIQdO3ZIl+3fv1/Q1NQsNsZt27YJJiYmwtu3b6XLtmzZIgAQ7t69KwjC/z7vstQ1NzdX0NHREYYNGyZdFhMTIwAQ/P39BUEQhO+//17o1q2bzH5fvHghABBCQ0Ol+y34PSlQ0u3++3MtSsHv7buKqv/du3cFAEJ4eLggCIKwc+dOAYDw9OlTaZkJEyYI2traQmpqqnSZh4eHMGHCBJn9h4eHy3zeRNWZmhxyTiKSAzMzM/Tq1QteXl4QBAG9evWCqanpe7cJDAyEqqoqOnbs+N5yrq6u0v+HhYUhJycHbdu2lS5TV1dHy5Yt8fDhQwDAw4cP4ebmJtOXrW3btkhLS0NUVJS0X2Lz5s1ljhMaGooWLVrILGvZsqXM+7y8PKxYsQKHDh1CdHQ0srOzkZWVBW1tbZlyjRs3lnlvZWWF+Pj4Ius3cuRIfPLJJ3B0dET37t3x6aefolu3bsXuz8LCAgDQqFEjmWWZmZlISUmBvr5+oWMUtJ5qampKl7m5uRUZT1nqqqqqChMTk0KxAZDW/969e7h06VKhll4g/+dbr169IuMp6Xb//bmWN21tbdSuXVv63sLCAvb29jJxWVhYFPvzJlIGTACJlMjo0aOltyE3bdr0wfJaWlol2q+Ojk6Z4irP/f70009Yv3491q1bh0aNGkFHRwczZswoNNhAXV1d5r1IJIJEIilyny4uLggPD8e5c+dw/vx5DBo0CO7u7jK3EN/dX0FiW9Sy4o7xMcpS1/fFlpaWht69e2P16tWFjmllZVVsPCXdrjx/X4rqx/eh+hYsK8+fBVFVwwSQSIl0794d2dnZEIlEJep836hRI0gkEvj5+cHd3b1Ex6hdu7a0f1fNmjUBADk5Obh586Z0cEmDBg1w9OhRCIIgTT6uXr0KPT092NjYFLtvR0dHnD17VmbZfweXXL16FX369MGXX34JID+pefz4MRo2bFii+Iujr6+PwYMHY/DgwRgwYAC6d++OhIQEGBsbl2m/BRo0aIA9e/YgMzNT2gp4/fr1925TUXV1cXHB0aNHYW9vDzW1oi8TGhoahZKvkmxXHuLi4mBoaAgAePbsWYUdh6g64yAQIiWiqqqKhw8fIiQkBKqqqh8sb29vjxEjRmD06NE4ceIEwsPD4evri0OHDhW7jY6ODiZNmoS5c+fC29sbISEhGDduHDIyMjBmzBgAwFdffYUXL15g6tSpePToEU6ePIklS5Zg1qxZUFEp/s/ShAkT8OjRI8ybNw+PHz/GoUOH4OXlBeB/rVh169aFj48Prl27hocPH2LChAmIi4srxadU2Nq1a7F//348evQIjx8/xuHDh2FpaSlNQsrDkCFDIBKJMG7cOISEhODs2bP4+eef37tNRdQVyJ8fMiEhAZ6enrh58ybCwsLw999/Y9SoUdKkz97eHjdu3EBERARev34NiURSou3Kw/z58/Ho0SP4+/tj2bJlAIBbt25V+lRBRFUZE0AiJaOvr19kH7TibNmyBQMGDMBXX32F+vXrY9y4cUhPT3/vNqtWrcLnn3+OYcOGwcXFBU+fPsXff/8NIyMjAECNGjVw9uxZBAQEoEmTJpg4cSLGjBmDRYsWvXe/Dg4OOHLkCI4dO4bGjRtjy5Yt0lHABXPFLVq0CC4uLvDw8ECnTp1gaWmJvn37lri+RdHT08OPP/4IV1dXtGjRAhERETh79ux7k9XS0tXVxV9//YWgoCA0a9YMCxcuLPJW6rsqoq4AYG1tjatXryIvLw/dunVDo0aNMGPGDBgaGkrrPGfOHKiqqqJhw4YwMzNDZGRkibYrD40bN4abmxv69u2LOXPmoFmzZpg+fToyMzPL7RhE1Z1IEARB3kEQEX2sH374AVu3bsWLFy/kHQqVo5EjRyIpKUnmMXC+vr7o3LkzEhMTy7X1tUBERAQcHBxw9+5dNG3atNz3T6RI2AJIRFXK5s2bcfPmTTx79gx79uzBTz/9hBEjRsg7LKoAp0+fhq6uLk6fPl3hx+rRowecnJwq/DhEioItgERUpcycORMHDx5EQkIC7OzsMGzYMCxYsKBCBx1Q5YuPj0dKSgqA/BHEOjo6FdoCGB0dLX1Uop2dHTQ0NMp1/0SKhgkgERERkZLhLWAiIiIiJcMEkIiIiEjJMAEkIiIiUjJMAImIiIiUDBNAIiIiIiXDBJCIiIhIyTABJCIiIlIyTACJiIiIlAwTQCIiIiIlwwSQiIiISMkwASQiIiJSMkwAiYiIiJQME0AiIiIiJaMm7wCIqGoRBAE5OTnIy8uDqqoq1NXVIRKJ5B0WERGVQpVvARSJRDhx4oS8w6hwXl5eEIlEEIlEmDFjRoUfb+nSpdLjrVu3rsKPR4ovJycHUVFRCAgIwLVr13Djxg1cu3YNAQEBiIqKQk5OjrxDJCKiElLIBHDkyJHS5ENdXR0WFhb45JNP8Mcff0AikciUjYmJQY8ePeQU6f8sXboUTZs2rdBj6OvrIyYmBt9//32FHgcA5syZg5iYGNjY2FT4sUjxJSQk4Pr16wgLC4Ouri4aNmyIxo0bo2HDhtDV1UVYWBiuX7+OhIQEeYdKRFRiq1atKtSw8m4DSMGrfv36Jdrfpk2bYG9vD01NTbRq1QoBAQEVFHnZKewt4O7du2Pnzp3Iy8tDXFwcvL29MX36dBw5cgSnTp2Cmlp+6JaWlnKOtHxlZ2dDQ0OjyHUikajS6qurqwtdXV2oqqpWyvFIcSUkJCAoKAhGRkZwdHSEWCyWWW9ubo6srCyEhoYiKCgIjRo1grGxsZyiJSIqmZs3b2Lbtm1o3LhxoXVOTk44f/689H1BzvE+Bw8exKxZs7B161a0atUK69atg4eHB0JDQ2Fubl6usZcHhU0AxWKxNNmpUaMGXFxc0Lp1a3Tt2hVeXl4YO3YsgPyk6Pjx4+jbty8AYN68eTh+/DiioqJgaWmJoUOHYvHixVBXVweQn9mfOHEC06ZNw9KlS5GQkIDhw4dj48aNWLNmDdauXQuJRILp06dj4cKF0niSkpIwZ84cnDx5EllZWXB1dcUvv/yCJk2awMvLC8uWLZPGAwA7d+7EyJEj37vdu/FMmTIFP/zwA54/f16olfN9/lt/ADA0NMS6deswcuRIREREwMHBAQcPHsTGjRtx69YtODs7Y+/evUhOTsakSZPw6NEjtG/fHrt374aZmdnH/cAA2M8/89HbkmLSVgN+6awDC1NjODs7Q0Wl6JsGYrEYzs7OCA4OliaLxZUlIipvzs7OpSqflpaGoUOHYvv27Vi+fHmh9WpqaqVucFm7di3GjRuHUaNGAQC2bt2KM2fO4I8//sD8+fNLta/KUKX+Qnfp0gVNmjTBsWPHii2jp6cHLy8vhISEYP369di+fTt++eUXmTJhYWE4d+4cvL29sX//fuzYsQO9evVCVFQU/Pz8sHr1aixatAg3btyQbjNw4EDEx8fj3LlzuH37NlxcXNC1a1ckJCRg8ODBmD17NpycnBATE4OYmBgMHjz4g9sVePr0KY4ePYpjx44hMDCwfD+0/7dkyRIsWrQId+7cgZqaGoYMGYKvv/4a69evx7///ounT59i8eLFFXJsqrra1lCDhirQoL7jBxM6FRUVODo6QhAEZGVlVVKERESlN3nyZPTq1Qvu7u5Frn/y5Amsra1Rq1YtDB06FJGRke/dX3Z2Nm7fvi2zPxUVFbi7u8Pf379cYy8vCtsCWJz69evj/v37xa5ftGiR9P/29vaYM2cODhw4gK+//lq6XCKR4I8//oCenh4aNmyIzp07IzQ0FGfPnpVexFavXo1Lly6hVatWuHLlCgICAhAfHy+9/fXzzz/jxIkTOHLkCMaPHw9dXd1C3xhKsh2Q/4tT1ta3D5kzZw48PDwAANOnT4enpycuXLiAtm3bAgDGjBkDLy+vCjs+VU2f1NSAmalZodu+xRGLxTAzM0NCQgI0NTU5OpiIFM6BAwdw584d3Lx5s8j1rVq1gpeXFxwdHRETE4Nly5ahffv2CA4Ohp6eXpHbvH79Gnl5ebCwsJBZbmFhgUePHpV7HcpDlUsABUF470Xl4MGD2LBhA8LCwpCWlobc3Fzo6+vLlLG3t5f5IVpYWEBVVVWmhcPCwgLx8fEAgHv37iEtLQ0mJiYy+3n79i3CwsKKjaWk29WsWbNCkz8AMn0cCn5BGzVqJLOsoL5EAKCrDphri2BuXrrfTTMzM7x69eqD5yoRUWV78eIFpk+fDh8fH2hqahZZ5t2BpY0bN0arVq1Qs2ZNHDp0CGPGjKmsUCtclUsAHz58CAcHhyLX+fv7Y+jQoVi2bBk8PDxgYGCAAwcOYM2aNTLlCvoDFigYbfzfZQV98dLS0mBlZQVfX99CxzQ0NCw21pJup6OjU+w+PkZeXl6hZe/Wr+Ci/N9lpel7SNWfplr+70lJOj+/q6C8IAjlHhMRUVncvn0b8fHxcHFxkS7Ly8vD5cuX8euvvyIrK6vQ4EdDQ0PUq1cPT58+LXa/pqamUFVVRVxcnMzyuLg4hR2sWqUSwIsXLyIoKAgzZ84scv21a9dQs2ZNmcEbz58/L/NxXVxcEBsbCzU1Ndjb2xdZRkNDo1DiVZLtysO7v3CvXr1CWlpahR2LlEdmbn4Cl5ubW6rtCsqz9Y+IFE3Xrl0RFBQks2zUqFGoX78+5s2bV+TMF2lpaQgLC8OwYcOK3a+GhgaaN2+OCxcuSAdlSiQSXLhwAVOmTCnXOpQXhR0EkpWVhdjYWERHR+POnTtYsWIF+vTpg08//RTDhw8vcpu6desiMjISBw4cQFhYGDZs2IDjx4+XORZ3d3e4ubmhb9+++OeffxAREYFr165h4cKFuHXrFoD828rh4eEIDAzE69evkZWVVaLtysMvv/yC69ev4+HDh5g0aRIAIDQ0FG/evCm3Y5DyScsB4jMExMe/KtV2r169gqqqKhNAIlI4enp6cHZ2lnnp6OjAxMREOpJ4zpw58PPzk16z+/XrB1VVVXh6ekr38+uvv6Jr164y+541axa2b9+OXbt2Sa/H6enp0lHBikZhWwC9vb1hZWUFNTU1GBkZoUmTJtiwYQNGjBhR7GjEzz77DDNnzsSUKVOQlZWFXr164dtvv8XSpUvLFItIJMLZs2excOFCjBo1Cq9evYKlpSU6dOgg7U/3+eef49ixY+jcuTOSkpKk08B8aLvy0L17d3zxxRd49eoVxo0bh8mTJ2PTpk3o3r07atasWW7H+ZCIVb0q7VhUOaKiohAWFoasrKwSDQTJysrC69evUbt2bU4iTkRVUlRUFDw9PfHmzRuYmZmhXbt2uH79ukxf/devXxcaAzB48GC8evUKixcvRmxsLJo2bQpvb+9yvd6XJ5HAjjpVgpeXF2bMmIGkpCSZ5UXNA1ie7O3tMWPGjEp5/BwpnpycHFy/fh0GBgbvnQcQyL/dERwcjOTkZLRu3bpQv1oiIlIcCnsLmApLTk6Grq4u5s2bV+HHWrFiBXR1dT849xFVb+rq6nByckJiYiKCg4OLnd8vKysLwcHBSExMhJOTE5M/IiIFxxbAKiI1NVU62MPQ0BCmpqYAKq4FMCEhQTpZtZmZGQwMDMp1/1S1JCQk4MGDB5BIJDA1NYWZmRnU1NSQm5uLV69e4fXr11BRUYGTkxMfA0dEVAUwASSiEsnJyUFcXByio6Px9u1b6XItLS3UqFEDlpaWpZ4yhoiI5IMJIBGViiAIyM3NRW5uLtTU1KCmpsYRv0REVQwTQCIiIiIlw0EgREREREqGCSARERGRkmECSERERKRkmAASERERKRkmgERERERKhgkgERERkZLhrK2kcCQSCV6+fAk9PT3OL0eVThAEpKamwtra+r3PPiYiqsqYAJLCefnyJWxtbeUdBim5Fy9ewMbGRt5hEBFVCCaApHD09PQAAA8fPpT+n6iypKamokGDBvzdI6JqjQkgKZyC2756enrQ19eXczSkrNj9gIiqM3ZwISIiIlIyTACJiIiIlAwTwCqgU6dOEIlEEIlECAwMlHc4Uvb29li3bt17yxTEbWhoWCkxERER0YcpRAI4cuRIaaKgrq4OCwsLfPLJJ/jjjz8gkUjkHd5HiYiIKNeEbdy4cYiJiYGzs3OptsvOzsZPP/0EFxcX6OjowMDAAE2aNMGiRYvw8uXLUsexa9cutGvXrsTlY2JiPpgkfqw1a9agY8eOsLa2Rq1ateDp6YknT568d5uHDx/iyy+/hLOzM/T19bFp06ZCZQrW/fc1a9YsaZmePXsWWj9jxgyZ/fj6+sLd3R3W1taoU6cOFi9ejNzc3CLjCgsLg7W1dZGjn48fP47mzZvDzMwMrVu3xt9//y2zfsWKFWjevDksLS1hZ2eHzz77DDdv3iy0H29vb3Tu3Bnm5uaws7ODp6enzPqi6nzkyBHp+lOnTqFPnz5wcHBAjRo10LVrV5w/f77Un92zZ88wZMgQ6X5GjBiB+Ph46fp///23yH3o6+vj9u3b0nLBwcHw8PCAmZkZGjRoUOTv2aZNm+Di4gJzc3M0aNAA8+fPR2ZmZpE/AyJlIpFIEBUVheTkZKSkpCjdKzk5GVFRUVU2xygPCjMIpHv37ti5cyfy8vIQFxcHb29vTJ8+HUeOHMGpU6egpqYYoWZnZ0NDQ6PSj6utrQ1LS8tSbZOVlYVu3brh/v37WLZsGdq2bQszMzOEh4dj//792LhxI1auXFmqfZ48eRKfffZZictbWlrCwMCgVMcoqStXrmD8+PFwcXFBbm4uli1bhr59+yIgIAA6OjpFbpORkQF7e3v07dsXCxYsKLKMr68v8vLypO9DQkLQp08f9OvXT6bcyJEjsXDhQul7LS0t6f+DgoIwYMAAzJkzB9u2bUNMTAxmzJiBvLw8/PDDDzL7ycnJwejRo+Hm5oaAgACZdTdu3MDo0aOxdOlSdO/eHYcOHcKQIUPw77//omHDhgCAOnXq4Oeff4a9vT0yMzOxadMm9OvXD4GBgTA1NQWQ/3ObOnUqlixZgg4dOiAvLw8hISGF6r5lyxa4u7tL37/7s7t69So6d+6MxYsXw8DAAHv37sXgwYNx8eJFNGnSpESfXXp6Ovr27YtGjRrh9OnTAIDly5dj0KBBuHjxIlRUVNCqVatCifzy5cvh5+cHFxcXAEBKSgr69u2LTp06Yd26dXjw4AEmT54MAwMDjBo1CgBw6NAhLF26FJs2bUKrVq3w9OlTTJo0CSKRqNS/90TVDafbyqfM0z0pRlYFQCwWSxOcGjVqwMXFBa1bt0bXrl3h5eWFsWPHAgAiIyMxdepUXLhwASoqKujevTs2btwICwsLAMC9e/cwY8YM3Lp1CyKRCHXr1sW2bdvg6uoKID9pWLBgAW7dugVTU1P069cPK1euLDZhWLp0KU6cOIEpU6bghx9+wPPnzyGRSODt7Y3ly5cjODgYqqqqcHNzw/r161G7dm0AgIODAwCgWbNmAICOHTvC19cXAPD7779jzZo1CA8Ph729PaZNm4avvvqqVJ+Xl5cXZsyYgaSkJOmyEydOoF+/fhAEAQDwyy+/4MqVK7h165Y0DgCws7NDx44dpeV2796NmTNn4uXLlxCLxdJyffv2hZ6eHvbs2QMAyMzMxD///IMVK1ZIy2RkZGD06NE4fPgwjIyMsGjRIowfP75UdflYx48fl3m/detW1KpVC4GBgWjbtm2R2zRv3hzNmzcHkP+zLUpB0lRg7dq1cHBwKNTyqaWlJf29+69jx47ByckJ8+fPBwDUrl0b33//PUaMGIH58+fLTDHy/fffo169eujUqVOhBLAgIZs+fToA4Ntvv8WlS5fw22+/SVu8Bg0aJLPNihUrsHv3bgQHB6NTp07Izc3FvHnzsHz5cgwfPlxarn79+oXiNjAwKLZOq1evlnm/ZMkSnDlzBufOnZMmgB/67K5fv47IyEhcuXJFOsJ769atsLOzg5+fHzp37gwNDQ2ZGHJycnDmzBlMmDBBOjL30KFDyM7OxubNm6GhoYEGDRogKCgIv/76qzQBvHHjBlq3bi39fGrWrIkBAwbg1q1bRdaPSJkU/A3y8/ODrq6unKOpfGlpaejYsaNST/ekELeAi9OlSxc0adIEx44dA5DfZN2nTx8kJCTAz88PPj4+ePbsGQYPHizdZujQobCxscHNmzdx+/ZtzJ8/H+rq6gDyb7N1794dn3/+Oe7fv4+DBw/iypUrmDJlynvjePr0KY4ePYpjx45Jb+mmp6dj1qxZuHXrljQZ7devn7Q5ueBCfv78ecTExEjrsHfvXixevBg//PADHj58iBUrVuDbb7/Frl27yvWzA4D9+/fjk08+kUn+3lVwMR04cCDy8vJw6tQp6br4+HicOXMGo0ePli67cOECatSoIZM4rFmzBq6urrh79y6++uorTJo0CaGhoe+Ny9fXFyKRCBEREWWoXWHJyckAACMjo3LbZ3Z2Ng4ePIhhw4YVmhbk0KFDsLe3R6tWrbB06VJkZGRI12VlZUFTU1OmvKamJjIzM2W6Bfj5+eHEiRNYs2ZNkccPCAhAp06dZJZ17dq1UKL4brxeXl4wMDBAo0aNAACBgYF4+fIlVFRU0K5dO9StWxf9+/cvsgVw9uzZsLe3R6dOnbBnzx7pl4SiSCQSpKWlFft5F/XZZWdnQyQSyXzR0NTUhIqKCvz9/Yvcz9mzZ5GQkIAvv/xS5nNp27atTGt8165d8eTJEyQmJgIAWrVqhcDAQGnCFx4ejn/++QfdunUrtk5EyqLgnNTV1VXa17ufgzJSmBbA4tSvXx/3798HkJ+ABAUFITw8XNp0vXv3bjg5OeHmzZto0aIFIiMjMXfuXGmSUrduXem+Vq5ciaFDh0r7atWtWxcbNmxAx44dsWXLlkIX7ALZ2dnYvXs3zMzMpMs+//xzmTJ//PEHzMzMEBISAmdnZ2lZExMTmVu3S5YswZo1a9C/f38A+S2FISEh2LZtG0aMGFGWj6qQx48fF0oe+vXrBx8fHwBA48aNce3aNWhpaWHIkCHYuXMnBg4cCAD4888/YWdnJ7N9Ubd/e/bsKW29nDdvHn755RdcunQJjo6Oxcalra0NR0dHaWJeHiQSCebPn4/WrVtLb42Wh9OnTyM5ORlDhw6VWT5w4EDY2trCysoKwcHBWLJkCZ48eYK9e/cCyE9GNm/ejMOHD6N///6Ii4uTtqDFxsYCAN68eYNJkyZh+/btxc53GBcXB3Nzc5ll5ubmiIuLk1l27tw5jB49GhkZGbC0tMSJEydgYmICANJEe+XKlVixYgXs7OywceNG9OzZE3fu3IGxsTEAYOHChejYsSO0tLRw8eJFzJo1C2lpaZg0aVKRsW3YsAFpaWnS3+WSfHYtWrSAjo4OFi9ejCVLlkAQBCxZskTa9aMou3fvRteuXVGjRg2Zz8Xe3r7Q5wLkf3kxMjLCoEGD8ObNG3h4eEAQBOTm5mLMmDGYM2dOkcchopKZP3++9A6MmpoaLCws0L17d0yfPl3my11FHj8lJQWbN2+u8GNVZwrdAgjkP5ezIEN/+PAhbG1tZfotNGzYEIaGhnj48CEAYNasWRg7dizc3d2xatUqhIWFScveu3cPXl5eMt8APDw8IJFIEB4eXmwMNWvWlEn+AODJkyfw9PRErVq1oK+vL70YRUZGFruf9PR0hIWFYcyYMTIxLF++XCbOirR582YEBgZKk4UC48aNwz///IPo6GgA+beYCwbnAPk/h7/++qtQAti4cWPp/0UiESwtLWU69BelZcuWePTokcwFvaxmz56Nhw8fYufOneW2TyA/+fjkk09gZWUls3zUqFFwd3eHk5MTBg8ejG3btuGvv/7Cs2fPAOQngMuXL8fMmTNhamoKFxcXactTwfNlp02bhoEDBxZ7u7o0OnTogCtXrsDHxwfu7u4YOXIkXr16BQDSVuk5c+agT58+aNasGbZs2QKRSIQTJ05I9zFv3jy0bt0aTZo0wcyZMzF9+nRs2LChyOMdOnQIq1atwq5duwqdGwWK+uxMTU2xa9cunDt3DlZWVrCxsUFycjKaNm1a5HN3o6OjceHCBZlb1yX177//Ys2aNVi7di3+/fdf7N27F3///XehW9lEVHrt27fHlStXcP78eXzzzTc4ePBgsX8vSDEpfAL48OFDaX+6kli6dCkePHiAXr164eLFi2jYsKH0m0paWhomTJiAwMBA6evevXt48uSJtO9eUYrqH9i7d28kJCRg+/btuHHjBm7cuAEgv7WwOGlpaQCA7du3y8QQHByM69evl7iOxXm38z2Q38L539uxVlZWqFOnjrTVp0CzZs3QpEkT7N69G7dv38aDBw8wcuRI6fqAgADk5uaiTZs2Mtv9txVPJBJV+qiq2bNnw9vbG6dPny7XpDIyMhK+vr4lapkt6GNakAACwJQpU/DixQuEhIQgPDwcvXr1AgDpl4XLly9jw4YNMDIygpGRESZPnozk5GQYGRlJ+11aWFgUSqjj4+ML9dPT0dFB7dq10bJlS2zatAmqqqrYvXs3AEhboN+9dS8Wi2Fvb4+oqKj31ik6OhpZWVkyy48cOYKpU6fCy8sLnTt3LnLb9312Xbt2xf379/Hs2TOEh4dj+/btePnyZaEWPSC/JdrY2Bg9e/aUWV7c5wL8ryVw+fLl+OKLLzBixAg4OTmhd+/eWLx4MdauXavUI/+IyoOGhgbMzMxgZWUFd3d3tGnTBteuXQOQ/6Vz27Zt6NKlCxo3bozPPvsM3t7e0m2Tk5Mxe/ZstG7dGo0bN0a3bt1w9OhR6fqYmBhMnz4drq6uaNmyJSZNmiT9W7Vx40YcP34cFy5cgKOjIxwdHaXXXyodhb4FfPHiRQQFBWHmzJkAgAYNGuDFixd48eKFtBUwJCQESUlJMrf96tWrh3r16mHmzJnw9PTEzp070a9fP7i4uCAkJAR16tQpU1xv3rxBaGgotm/fjvbt2wPIH1zyroK+Se8mZRYWFrC2tsazZ88K3VL8GKmpqXj79q109Om7yQcAeHp6YtGiRbh7926x/QDfNXbsWKxbtw7R0dFwd3eXaWk9efIkevXqBVVV1TLHXV4EQcCcOXNw+vRpnDlzpsgEoiz+/PNPmJmZwcPD44Nlg4KCAKDQSG2RSCRtATt8+DBsbGzQtGlTAPn9Q9/9/Thz5gzWrVsHHx8f6TYtW7aEn58fJk+eLC136dIltGzZ8r3xSCQSaeLWtGlTiMViPHnyBG5ubgDyB1ZERka+dxRgUFAQDA0NZW7pHD58GJMnT8bOnTvRvXv3YrctyWdXcIvaz88Pr169KpTkCYKAvXv3wtPTs9AXjZYtW+K7775DTk6OdN2lS5dQt25daZ/Et2/fFmpVLPj9fV/fRiIqncePH+Pu3buwtrYGAGzbtg2nTp3CsmXLYG9vj5s3b2Lu3LkwNjZGy5YtsX79eoSFhWH79u0wMjJCZGSkdHqmnJwcjBkzBk2bNsXevXuhpqaGzZs3Y+zYsTh16hRGjx6NsLAwpKWlSUfzV9RME9WdwiSAWVlZiI2NlZkGZuXKlfj000+lt3/c3d3RqFEjDB06FOvWrUNubi6++uordOzYEa6urnj79i3mzp2LAQMGwMHBAVFRUbh586a0v17BLa4pU6Zg7Nix0NHRQUhICHx8fPDrr7+WOFYjIyOYmJjgt99+g5WVFSIjI6WjPQuYm5tDS0sL3t7esLGxgaamJgwMDLBs2TJMmzYNBgYG6N69O7KysnDr1i0kJibKzJVWEhKJBLNmzcLs2bMRHh4uHRV67do1tGnTBjNnzsSZM2fQtWtXLFmyBO3bt4eRkREeP36Mc+fOFUrmhgwZgjlz5mD79u3S1qMCp06dwnfffVeq+IoTEBCA4cOHSweVfKxZs2bhyJEj2L9/P/T09KR9yPT19aVJ8fjx42FtbS0d8ZudnY1Hjx5J/x8TE4P79+9LW9AKSCQS7N27F0OGDCk0BdGzZ89w+PBhdOvWDcbGxnjw4AHmz5+Ptm3byszTuH79eri7u0NFRQWnTp3CL7/8gl27dkk/9//2k7x79y5UVFRkvsxMmjQJPXr0wMaNG+Hh4YEjR47g7t270lst6enp+Pnnn9GjRw9YWlrizZs32L59O2JiYqRTr+jr62P06NFYsWIFatSoATs7O6xfvx5A/khvIL8PYXx8PFq0aAGxWIxLly5hzZo1mDp1qjSWQ4cOYeLEiVi9ejVcXV2ln3fB73ZJPjsgPzmsV68eTE1NERAQgHnz5mHy5Mky/XWB/MQwIiKiyFbEgQMHYtWqVZg8eTJmzpyJkJAQbNmyRWZ6l+7du2PTpk1o3LgxXF1d8ezZMyxfvhw9evRQqC8yRFWRr68vmjVrhtzcXGRnZ0NFRQXffvstsrOzsW3bNuzcuVPa8GBra4vbt2/j4MGDaNmyJV6+fIkGDRpIB6q9Ow3L2bNnIZFI8MMPP0i7IK1cuRItWrRAQEAA2rVrB01NTWRnZxfb/YRKRmESQG9vb1hZWUFNTQ1GRkZo0qQJNmzYgBEjRki/xYtEIul8Zh06dJCZBgbI/3b/5s0bDB8+HHFxcTA1NUX//v2xbNkyAPn91fz8/LBw4UK0b98egiCgdu3aMqOIS0JFRQUHDhzAtGnT4OzsDEdHR2zYsEFmwISamho2bNiA7777DosXL0b79u3h6+uLsWPHQltbGz/99BPmzp0LHR0dNGrUqNAkwiVhYGAAXV1dNG3aFCYmJli7di3mzZuHCRMmICgoCJqamrhw4QLWrVuHnTt3YsGCBZBIJHBwcECPHj2kLavv7u/zzz/HmTNnpIkBkD96+unTpyVqCSuJjIwMhIaGIicnp0z72bFjBwAUajnasmWLtIU1KipKphUoJiZGZjqXDRs2YMOGDWjXrh3Onj0rXX7p0iW8ePFCZuRpAQ0NDfj6+mLz5s3IyMhAjRo10KdPH8ydO1emnI+PD37++WdkZWXB2dkZ+/fvL/UI1FatWmHHjh34/vvvsWzZMtSuXRv79u2TJomqqqp4/Pgx9u3bhzdv3sDY2BguLi7w9vZGgwYNpPtZvnw51NTUMH78eGRmZsLV1RWnT5+Wtpapqalh+/btWLBgAQRBQK1atbBixQqZbgBeXl7Izc3F7NmzMXv2bOnyIUOGYOvWrSX67ID8/rNLly5FYmIi7OzsMHfuXJkWzgK7d+9Gq1atUK9evULrDAwMcOLECcyePRsdOnSAiYkJ5s2bJ50CBgC+/vpriEQifP/994iJiYGpqSm6d++OxYsXl/DTJ6LiFMx+8PbtW3h5eUFVVRUeHh548uQJ3r59KzODBJDfslfwN8nT0xPTpk1DSEgI2rZtC3d3d+kcn48ePUJkZKT0fYGsrKz39rGn0hMJvBei8Dp16oSmTZvKPOmgqHkAy0PXrl3h5OQk05l37dq1OH/+vEyCVBqljTUlJQUGBgaIiooqdnQsUUVJSUmRDk7h7x9VVwV/Z2/fvl3qeQD/Owq3YIq24cOHo169ehg0aBD27NlTqK+yhoaGtHtLwXRuV69exT///IOhQ4di3rx5WLJkCUJCQvDzzz8XOq6xsTH09PTKZRRwWloamjdvrtTnucK0ANL7bd68Gb///jv8/f2lzeblKTExEb6+vtKWrXfZ2NgU+9SMD9HV1UVubm6xU+wQEVHVpqKiggkTJmDVqlXw9vaGhoYGXr58+d6+ysbGxujXrx/69euHAwcO4Mcff8S8efPg5OSEc+fOwcTEpNjEVF1dnQO5ygETwCpg7969ePv2LYD8p3hUhGbNmiExMRGrV68u1Dftv0+aKI2CSY/Z54qIqPrq3r07fvzxRxw8eBCjR4/GypUrIQgCmjdvjtTUVNy5cwe6urro168f1q9fDycnJ9StWxfZ2dnw9fWV9sHu3bs3duzYgUmTJmH69OmwsLDAy5cv4ePjg7Fjx8LS0hI1atTAlStX8OzZMxgaGkJPT69c55VVFkwAq4CiBkqMHDlSpn9WWZX3UzkKlHXENRERKT41NTV8+eWX+P3333HhwgUYGxtj27ZtiIqKgp6eHho2bIiJEycCyG/BW7t2LaKjo6GpqYnmzZtj7dq1APIfsfnnn3/i559/xpQpU5Ceng4LCwu4ublJWwQHDRqEgIAAfP7558jIyJD2F6bSYR9AUjjsA0jyxD6ApAzK0gewOmAfwCowETQRERERlS8mgERERERKhn0ASeEU9EpITU2VcySkjAp+79g7hoiqMyaApHAKLsDvTmRMVNlSU1P5iCkiqraYAJLCsba2xosXL6Cnpyd9FBBRZREEAampqdLnmhJVRwUt3GlpaXKORD4K6q3MLf0cBUxERKRkoqKiYGtrK+8w5O7FixcyzyJWJkwAiYiIlIxEIsHLly+V9k7Luy397z4vXpkwASQiIiJSMsqZ9hIREREpMSaAREREREqGCSARERGRkmECSERERKRkmAASERERKRkmgERERERKhgkgERERkZJhAkhERESkZJgAEhERESmZ/wMjDzhxiTeXswAAAABJRU5ErkJggg==' width=640.0/>\n",
       "            </div>\n",
       "        "
      ],
      "text/plain": [
       "Canvas(toolbar=Toolbar(toolitems=[('Home', 'Reset original view', 'home', 'home'), ('Back', 'Back to previous …"
      ]
     },
     "metadata": {},
     "output_type": "display_data"
    }
   ],
   "source": [
    "##############################################################################\n",
    "# Button to hide the code\n",
    "##############################################################################\n",
    "toggle_cell_code(\"String_database\")\n",
    "# Define the index of the code cell containing the plot\n",
    "plot_cell_index = 59\n",
    "\n",
    "##############################################################################\n",
    "# FUNCTION TO ACCESS AND EXTRACT DATA FROM THE DATABASE\n",
    "##############################################################################\n",
    "def database_run():\n",
    "    try :\n",
    "        dataBase = mysql.connector.connect(\n",
    "            host = \"localhost\",\n",
    "            user = \"marim\",\n",
    "            database = \"marim\"\n",
    "        )\n",
    "        if dataBase.is_connected():\n",
    "                db_Info = dataBase.get_server_info()\n",
    "                print(\"Connected to MySQL Server version \", db_Info)\n",
    "\n",
    "                cursor = dataBase.cursor()\n",
    "                cursor.execute(\"SELECT edep_per_decay FROM internal_dose_water_\"+dropdown_radionuclide.value+\";\")\n",
    "                record = np.array(cursor.fetchall(), dtype=float)\n",
    "                EdepInt = [a[0] for a in record]\n",
    "\n",
    "                cursor = dataBase.cursor()\n",
    "                cursor.execute(\"SELECT microdiameterum FROM dose_water_\"+dropdown_radionuclide.value+\";\")\n",
    "                record = np.array(cursor.fetchall(), dtype=float)\n",
    "                Diameter_microbe = [a[0] for a in record]\n",
    "\n",
    "                cursor = dataBase.cursor()\n",
    "                cursor.execute(\"SELECT matrixradiusum FROM dose_water_\"+dropdown_radionuclide.value+\";\")\n",
    "                record = np.array(cursor.fetchall(), dtype=float)\n",
    "                Radius_env = [a[0] for a in record]\n",
    "\n",
    "#               Extracting EDEP values from water tables\n",
    "                cursor = dataBase.cursor()\n",
    "                cursor.execute(\"SELECT edep_per_decay FROM dose_water_\"+dropdown_radionuclide.value+\";\")\n",
    "                record = np.array(cursor.fetchall(), dtype=float)\n",
    "                EdepWater = [a[0] for a in record]\n",
    "                \n",
    "#               Extracting EDEP values from mix 1:1 tables\n",
    "                cursor = dataBase.cursor()\n",
    "                cursor.execute(\"SELECT edep_per_decay FROM dose_50_\"+dropdown_radionuclide.value+\";\")\n",
    "                record = np.array(cursor.fetchall(), dtype=float)  \n",
    "                EdepMix = [a[0] for a in record]\n",
    "                \n",
    "#               Extracting EDEP values from sediments tables\n",
    "                cursor = dataBase.cursor()\n",
    "                cursor.execute(\"SELECT edep_per_decay FROM dose_quartz_\"+dropdown_radionuclide.value+\";\")\n",
    "                record = np.array(cursor.fetchall(), dtype=float)\n",
    "                EdepSed = [a[0] for a in record]\n",
    "               \n",
    "                print(\"You're connected to database:\")\n",
    "\n",
    "    except Error as e:\n",
    "        print(\"Error while connecting to MySQL\", e)\n",
    "    finally:\n",
    "        if dataBase.is_connected():\n",
    "            cursor.close()\n",
    "            dataBase.close()\n",
    "        return [EdepInt,Diameter_microbe,Radius_env,EdepWater,EdepMix,EdepSed]\n",
    "        \n",
    "EdepInt,Diameter_microbe,Radius_env,EdepWater,EdepMix,EdepSed = database_run()\n",
    "\n",
    "energy_int = np.array(EdepInt)\n",
    "Array_diam_micro = np.array(Diameter_microbe)\n",
    "Microorg_Vol_cm3 = pow(Array_diam_micro/2,3)*4/3*math.pi*1e-12\n",
    "Array_Radius_env = np.array(Radius_env)\n",
    "Env_Volume_cm3 = (pow(Array_Radius_env,3)*4/3*math.pi*1e-12)-Microorg_Vol_cm3\n",
    "\n",
    "##############################################################################\n",
    "# FUNCTION TO INTERPOLATE THE MATRIX DENSITY\n",
    "##############################################################################\n",
    "def interpolate_density(x_data, y_data, x):\n",
    "    degree = 2 # Degree of the polynomial\n",
    "    coefficients = np.polyfit(x_data, y_data, degree)\n",
    "    # Generate fitted polynomial using the coefficients\n",
    "    fitted_poly = np.poly1d(coefficients)\n",
    "    y = fitted_poly(x)\n",
    "    return y\n",
    "\n",
    "# Densities for water,mix,sediments\n",
    "X_list = [1.00, 1.8, 2.65]\n",
    "\n",
    "# Initialize an empty list to store the Y arrays\n",
    "Y_list = []\n",
    "\n",
    "# Iterate over the arrays and create Y for each iteration\n",
    "for edep_w, edep_m, edep_s in zip(EdepWater, EdepMix, EdepSed):\n",
    "    Y = [edep_w, edep_m, edep_s]                 # Create Y array using values from the current iteration\n",
    "    Y_list.append(Y)                             # Add Y to the list\n",
    "\n",
    "# Initialize an empty list to store the interpolated values\n",
    "interpolated_values = []\n",
    "\n",
    "# Iterate over each Y array in Y_list\n",
    "for Y in Y_list:\n",
    "    # Perform interpolation using numpy.interp()\n",
    "    interpolated = interpolate_density(X_list,Y,slider.value)\n",
    "    interpolated_values.append(interpolated)\n",
    "\n",
    "# Convert interpolated_values to a numpy array\n",
    "interpolated_values = np.array(interpolated_values)\n",
    "\n",
    "if dropdown_exposure.value == 'external' :\n",
    "    print(\"EXTERNAL\")\n",
    "    Activity_vol = Env_Volume_cm3\n",
    "    Edep_MeV = interpolated_values\n",
    "\n",
    "if dropdown_exposure.value == 'internal' :\n",
    "    Edep_MeV = energy_int\n",
    "    Activity_vol = Microorg_Vol_cm3\n",
    "    print(\"INTERNAL\")\n",
    "\n",
    "Edep_J = Edep_MeV*1.60217733E-13\n",
    "\n",
    "Env_Volume_m3=Activity_vol*1e-6\n",
    "Env_Volume_L=Activity_vol*0.001\n",
    "Env_Mass_kg=Activity_vol*slider.value*0.001\n",
    "\n",
    "Micro_Mass_kg=Microorg_Vol_cm3*0.001\n",
    "\n",
    "Dose_to_micro = Edep_J/Micro_Mass_kg\n",
    "\n",
    "\n",
    "if input4_widgets.value == 'Bq/L' :\n",
    "   DoseRate = Dose_to_micro*bounded_Activity.value*Env_Volume_L*3600\n",
    "\n",
    "if input4_widgets.value == 'Bq/kg' :\n",
    "   DoseRate = Dose_to_micro*bounded_Activity.value*Env_Mass_kg*3600\n",
    "\n",
    "if input4_widgets.value == 'Bq/m\\u00b3' :\n",
    "   DoseRate = Dose_to_micro*bounded_Activity.value*Env_Volume_m3*3600\n",
    "\n",
    "\n",
    "#print(\"Dose to microorganisms in uGy: \",Dose_to_micro)\n",
    "#in uGy\n",
    "DoseRate=DoseRate*1e6\n",
    "\n",
    "##############################################################################\n",
    "# INTERPOLATING THE GEOMETRY\n",
    "##############################################################################\n",
    "def interpolate_and_extrapolate(x_data, y_data, x):\n",
    "    if 0.5 < x < 150:\n",
    "        f = interp1d(x_data, y_data)\n",
    "        y = f(x)\n",
    "    else:\n",
    "        f = interp1d(x_data, y_data, fill_value=\"extrapolate\")\n",
    "        y = f(x)\n",
    "    return y\n",
    "\n",
    "# Create the figure and the line that we will manipulate\n",
    "\n",
    "fig, ax = plt.subplots()\n",
    "\n",
    "line, = ax.plot(Diameter_microbe, DoseRate, lw=1)\n",
    "point = ax.scatter(bounded_diameter.value, interpolate_and_extrapolate(Diameter_microbe, DoseRate, bounded_diameter.value), marker='*', color='red', s=100)\n",
    "\n",
    "ax.set_title('Dose rate assessment', pad=30)\n",
    "ax.set_xlabel('Microorganism diameter [\\u03BCm]')\n",
    "ax.set_ylabel('Dose rate [\\u03BCGy/h]')\n",
    "\n",
    "plt.title(dropdown_radionuclide.label)\n",
    "\n",
    "\n",
    "# adjust the main plot to make room for the sliders\n",
    "fig.subplots_adjust(left=0.20, bottom=0.25)\n",
    "\n",
    "\n",
    "# Make a horizontal slider to control the diameter.\n",
    "axdiam = fig.add_axes([0.23, 0.1, 0.65, 0.03])\n",
    "diam_slider = Slider( ax=axdiam, label='Diameter [\\u03BCm]', valmin=0.5, valmax=150, valinit=bounded_diameter.value,)\n",
    "\n",
    "axtext = plt.axes([0.26, 0.03, 0.25, 0.05])\n",
    "text_box = TextBox(axtext, 'Dose rate [\\u03BCGy/h]: ', initial=interpolate_and_extrapolate(Diameter_microbe, DoseRate, bounded_diameter.value))\n",
    "\n",
    "print(\"Dose to microorganisms in uGy: \",interpolate_and_extrapolate(Diameter_microbe, Dose_to_micro, bounded_diameter.value))\n",
    "\n",
    "# The function to be called anytime a slider's value changes\n",
    "def update(value):\n",
    "    diameter = diam_slider.val  # get the current slider value\n",
    "    y = interpolate_and_extrapolate(Diameter_microbe, DoseRate, diameter)\n",
    "    point.set_offsets([[diameter, y]])  # update the point position\n",
    "    text_box.set_val(\"{:e}\".format(y))\n",
    "    axtext.set_text('Dose rate[\\u03BCGy/h]: {:e}'.format(y))\n",
    "    fig.canvas.draw_idle()\n",
    "    \n",
    "# register the update function with each slider\n",
    "diam_slider.on_changed(update)\n",
    "\n",
    "# Create a `matplotlib.widgets.Button` to reset the sliders to initial values.\n",
    "resetax = fig.add_axes([0.8, 0.025, 0.1, 0.04])\n",
    "button = Button(resetax, 'Reset', hovercolor='0.975')\n",
    "\n",
    "def reset(event):\n",
    "    diam_slider.reset()\n",
    "        \n",
    "button.on_clicked(reset)\n",
    "\n",
    "plt.show()"
   ]
  },
  {
   "cell_type": "markdown",
   "id": "b75d3e7a",
   "metadata": {
    "slideshow": {
     "slide_type": "skip"
    }
   },
   "source": [
    "<h1 style=\"font-size: 16px;\">Considerations</h1>\n",
    "<p>\n",
    "<div style=\"text-align: justify;\">\n",
    "The dose assessment for environments other than pure water, pure quartz, or a 1:1 mixture was not directly simulated. Instead, an interpolation method was used. A dose dependent material density mathematical function was obtained by performing Gate simulations for mixtures with different ratios (90%, 80%, 70%, and 60% in water) while varying the density. It's important to note that this study focused on a single radionuclide and one specific geometry. This curve serves as a reference for calculating the dose in these environments by interpolating within the curve. It's crucial to clarify that the dose values for these environments are not the direct result of Monte Carlo simulations but rather obtained through the interpolation method.\n",
    "This approach was adopted due to the significant time and computational resources required to perform this study for all possible geometries and sizes. By leveraging the dose-density curve and interpolation, the dose assessment can be efficiently extrapolated to various environments while maintaining a reasonable level of accuracy.\n",
    "</div>\n",
    "</p>\n",
    "</h1>"
   ]
  },
  {
   "cell_type": "markdown",
   "id": "c28f70a1-d31b-4982-9e5f-7fee66808c2e",
   "metadata": {
    "slideshow": {
     "slide_type": "skip"
    }
   },
   "source": [
    "## Defining mathematicals functions\n",
    "\n",
    "To estimate the dose using the simulations values we used the function interpolate 1D inside the range of 0.5 to 150 um diameter. When it is outside this range is used the extrapolate verison of it (only considered the limit 0 to 250 um).\n",
    "\n",
    "### Interpolate / extrapolate python functions\n",
    "\n",
    "Uses:\n",
    "\n",
    "1. To evaluate the dose for any microorganism\n",
    "\n",
    "2. To generate the intermediate density values not simulated\n"
   ]
  },
  {
   "cell_type": "code",
   "execution_count": 5,
   "id": "f5d4c8e5-4230-40f7-87d2-0eceaa91431e",
   "metadata": {
    "slideshow": {
     "slide_type": "skip"
    },
    "tags": []
   },
   "outputs": [],
   "source": [
    "# DEFINING INTERPOLATION-EXTRAPOLATION FUNCTIONS\n",
    "f = interp1d(x_data, y_data)\n",
    "y = f(x)"
   ]
  },
  {
   "cell_type": "markdown",
   "id": "aed61644-fd72-4603-95c2-133ae67b8d19",
   "metadata": {
    "slideshow": {
     "slide_type": "slide"
    }
   },
   "source": [
    "<style>\n",
    ".text-justify {\n",
    "  text-align: center;\n",
    "}\n",
    "</style>\n",
    "\n",
    "<h1 style=\"font-size: 40px;\" class=\"text-justify\">Contact Information</h1>\n",
    "\n",
    "<h1 style=\"font-size: 26px;\" class=\"text-justify\">\n",
    "    \n",
    "<p class=\"fragment highlight-red\">PhD. Giovanna R. Fois\n",
    "<br>\n",
    "giovanna.fois@clermont.in2p3.fr\n",
    "</p>\n",
    "\n",
    "<p> \n",
    "<div style=\"text-align: justify;\">\n",
    "M.Sc. Dariana LLanes-Vega\n",
    "<br>\n",
    "dariana.llanes@clermont.in2p3.fr\n",
    "</div>\n",
    "</p>\n",
    "\n",
    "<p>\n",
    "<div style=\"text-align: justify;\">\n",
    "PhD. Lydia Maigne\n",
    "<br>\n",
    "lydia.maigne@clermont.in2p3.fr\n",
    "</div>\n",
    "</p>\n",
    "\n",
    "<p>\n",
    "<div style=\"text-align: justify;\">\n",
    "Université Clermont Auvergne, CNRS/IN2P3, LPC, F-63000 Clermont-Ferrand, France\n",
    "</div>\n",
    "</p>\n",
    "\n",
    "</h1>\n"
   ]
  },
  {
   "cell_type": "markdown",
   "id": "9ef344f1-78a2-4278-9efd-8c3f4ad31a37",
   "metadata": {
    "slideshow": {
     "slide_type": "-"
    }
   },
   "source": [
    "<div style=\"text-align: center;\">\n",
    "    <div>\n",
    "        <img src=\"LPC_logo.png\" alt=\"Seba y Chispy\" style=\"display: block; margin: 0 auto; width: 1000px;\">\n",
    "    </div>\n",
    "</div>"
   ]
  },
  {
   "cell_type": "markdown",
   "id": "93b97742",
   "metadata": {},
   "source": []
  }
 ],
 "metadata": {
  "celltoolbar": "Slideshow",
  "kernelspec": {
   "display_name": "Python 3 (ipykernel)",
   "language": "python",
   "name": "python3"
  },
  "language_info": {
   "codemirror_mode": {
    "name": "ipython",
    "version": 3
   },
   "file_extension": ".py",
   "mimetype": "text/x-python",
   "name": "python",
   "nbconvert_exporter": "python",
   "pygments_lexer": "ipython3",
   "version": "3.10.10"
  },
  "nbTranslate": {
   "displayLangs": [
    "*"
   ],
   "hotkey": "alt-t",
   "langInMainMenu": true,
   "sourceLang": "en",
   "targetLang": "fr",
   "useGoogleTranslate": true
  },
  "rise": {
   "_backimage": "./IMG/Slide1.png",
   "_theme_options": [
    "black",
    "white",
    "league",
    "beige",
    "sky",
    "night",
    "serif"
   ],
   "_transition_options": [
    "none",
    "fade",
    "slide",
    "convex",
    "concave",
    "zoom"
   ],
   "autolaunch": false,
   "enable_chalkboard": true,
   "header": "<h3 style='margin-left:250px; color: grey;'>Dose assessment using MC simulation toolkit GATE.</h3>",
   "theme": "white",
   "transition": "slide"
  },
  "varInspector": {
   "cols": {
    "lenName": 16,
    "lenType": 16,
    "lenVar": 40
   },
   "kernels_config": {
    "python": {
     "delete_cmd_postfix": "",
     "delete_cmd_prefix": "del ",
     "library": "var_list.py",
     "varRefreshCmd": "print(var_dic_list())"
    },
    "r": {
     "delete_cmd_postfix": ") ",
     "delete_cmd_prefix": "rm(",
     "library": "var_list.r",
     "varRefreshCmd": "cat(var_dic_list()) "
    }
   },
   "types_to_exclude": [
    "module",
    "function",
    "builtin_function_or_method",
    "instance",
    "_Feature"
   ],
   "window_display": false
  }
 },
 "nbformat": 4,
 "nbformat_minor": 5
}
