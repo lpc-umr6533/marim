{
 "cells": [
  {
   "cell_type": "markdown",
   "id": "8776adb1",
   "metadata": {
    "slideshow": {
     "slide_type": "slide"
    }
   },
   "source": [
    "![Grafic Representation](Database_logo.png)"
   ]
  },
  {
   "cell_type": "markdown",
   "id": "7fcccd7e-0583-42e4-a5c1-7c7504c5bfbc",
   "metadata": {
    "slideshow": {
     "slide_type": "slide"
    },
    "tags": []
   },
   "source": [
    "## GATE MARIM Database: GATE Monte Carlo simulations to Assess Radiological Impact on Microorganisms"
   ]
  },
  {
   "cell_type": "markdown",
   "id": "7960cc0a",
   "metadata": {
    "slideshow": {
     "slide_type": "-"
    }
   },
   "source": [
    "The following open-source code has been developed to estimate the dose rate for a microorganism exposed to natural radioactivity alpha sources from Uranium-238 and Thorium-232 decay chains.\n",
    "\n",
    "The code accesses a SQL file named marimdatabase that contains the results of Monte Carlo simulations performed using GATE (opengatecollaboration.org) toolkit for the particular scenario being analyzed."
   ]
  },
  {
   "cell_type": "markdown",
   "id": "e22cd76a",
   "metadata": {
    "slideshow": {
     "slide_type": "slide"
    }
   },
   "source": [
    "### 1. Simulations description"
   ]
  },
  {
   "cell_type": "markdown",
   "id": "e9b2e316",
   "metadata": {
    "slideshow": {
     "slide_type": "-"
    }
   },
   "source": [
    "<div style=\"display: inline-block; vertical-align: text-bottom; width: 50%;\">\n",
    "     <img src=\"geometry.jpeg\" alt=\"Seba y Chispy\" style=\"display: block; margin: 0 auto; width: 3000px;\">\n",
    "</div>"
   ]
  },
  {
   "cell_type": "markdown",
   "id": "e78e145a",
   "metadata": {
    "slideshow": {
     "slide_type": "skip"
    }
   },
   "source": [
    "## Simulation Geometry\n",
    "\n",
    "The experiment focuses on studying microorganisms using a water sphere as their representation, which is surrounded by an infinite radioactive matrix. The microorganisms' diameters range from 0.5 to 150 micrometers. The radioactive source is uniformly distributed throughout the entire matrix volume and emits radiation isotropically. For the radiation source, all alpha emitters from the Uranium-238 and Thorium-232 decay chains are considered. To define the infinite matrix, the range of alpha emission from the radionuclides was overestimated by 20%. The study explores different matrix compositions, ranging from pure water to pure quartz, as well as intermediate quartz hydratation states (>50% in water content).\n",
    "\n",
    "<h1 style=\"font-size: 20px;\">Simulation Parameters</h1>\n",
    "<p>\n",
    "<div style=\"text-align: justify;\">\n",
    "The experiment’s physics was modeled using EM_standard_option4 library. Uncertainties values were kept lower than 2%."
   ]
  },
  {
   "cell_type": "markdown",
   "id": "f88e088c",
   "metadata": {
    "slideshow": {
     "slide_type": "slide"
    }
   },
   "source": [
    "### 2. Data storage\n",
    "SQL file storaged in GitHub: "
   ]
  },
  {
   "cell_type": "markdown",
   "id": "d5c9b953",
   "metadata": {
    "slideshow": {
     "slide_type": "-"
    }
   },
   "source": [
    "To use the database there are two options:\n",
    "\n",
    "1. Access to the server were it is hosted, or\n",
    "\n",
    "2. Have the SQL Database file stored in your main computer.\n",
    "\n",
    "It's possible to read and modify the DRDB using a mysql. To have a visual interface we recommend HeidiSQL, free software."
   ]
  },
  {
   "cell_type": "markdown",
   "id": "d1aaf23b",
   "metadata": {
    "slideshow": {
     "slide_type": "slide"
    }
   },
   "source": [
    "### 3. Input parameters to the SQL database"
   ]
  },
  {
   "cell_type": "code",
   "execution_count": 1,
   "id": "fe9748dd",
   "metadata": {
    "slideshow": {
     "slide_type": "skip"
    }
   },
   "outputs": [],
   "source": [
    "# Interface section\n",
    "\n",
    "def toggle_cell_code(button_id):\n",
    "    \"\"\"\n",
    "    Adds a button to toggle (show/hide) the code cell but not the output. \n",
    "    \n",
    "    Parameters\n",
    "    ----------\n",
    "    button_id : str\n",
    "        An identifier for cells that will hide/show when the button is pressed.\n",
    "    \"\"\"\n",
    "    from IPython.display import display_html\n",
    "    my_html = '''\n",
    "    <button type=\"button\" id=\"%s\" onclick=\"code_toggle('%s')\">Code</button>\n",
    "    <script>\n",
    "    function code_toggle(my_id) {\n",
    "        // get the parent element for the cell code and output\n",
    "        var p = $(\"#\"+my_id);\n",
    "        if (p.length==0) return;\n",
    "        while (!p.hasClass(\"cell\")) {\n",
    "            p = p.parent();\n",
    "            if (p.prop(\"tagName\") ==\"body\") return;\n",
    "        }\n",
    "    // get the cell code and toggle its value\n",
    "    var cell_code = p.find(\".input\");\n",
    "    cell_code.toggle();\n",
    "\n",
    "\n",
    "    // toggle the button label\n",
    "    var button = $(\"#\" + my_id);\n",
    "    if (cell_code.is(\":visible\")) {\n",
    "        button.text(\"Hide Code\");\n",
    "    } else {\n",
    "        button.text(\"Show Code\");\n",
    "    }\n",
    "    }\n",
    "    </script>\n",
    "    ''' %(button_id, button_id)\n",
    "    return display_html(my_html, raw=True)"
   ]
  },
  {
   "cell_type": "code",
   "execution_count": 31,
   "id": "1d215e84",
   "metadata": {
    "slideshow": {
     "slide_type": "-"
    }
   },
   "outputs": [
    {
     "data": {
      "text/html": [
       "\n",
       "    <button type=\"button\" id=\"String_unique\" onclick=\"code_toggle('String_unique')\">Code</button>\n",
       "    <script>\n",
       "    function code_toggle(my_id) {\n",
       "        // get the parent element for the cell code and output\n",
       "        var p = $(\"#\"+my_id);\n",
       "        if (p.length==0) return;\n",
       "        while (!p.hasClass(\"cell\")) {\n",
       "            p = p.parent();\n",
       "            if (p.prop(\"tagName\") ==\"body\") return;\n",
       "        }\n",
       "    // get the cell code and toggle its value\n",
       "    var cell_code = p.find(\".input\");\n",
       "    cell_code.toggle();\n",
       "\n",
       "\n",
       "    // toggle the button label\n",
       "    var button = $(\"#\" + my_id);\n",
       "    if (cell_code.is(\":visible\")) {\n",
       "        button.text(\"Hide Code\");\n",
       "    } else {\n",
       "        button.text(\"Show Code\");\n",
       "    }\n",
       "    }\n",
       "    </script>\n",
       "    "
      ]
     },
     "metadata": {},
     "output_type": "display_data"
    },
    {
     "data": {
      "application/vnd.jupyter.widget-view+json": {
       "model_id": "55198a47bcba42c3882741f68abe870f",
       "version_major": 2,
       "version_minor": 0
      },
      "text/plain": [
       "HBox(children=(Dropdown(description='Exposure:', options=(('External', 'external'), ('Internal', 'internal')),…"
      ]
     },
     "metadata": {},
     "output_type": "display_data"
    },
    {
     "name": "stdout",
     "output_type": "stream",
     "text": [
      "Select environment density only for external exposure\n"
     ]
    },
    {
     "data": {
      "application/vnd.jupyter.widget-view+json": {
       "model_id": "012435036eed4411a9b238298d0a6c3a",
       "version_major": 2,
       "version_minor": 0
      },
      "text/plain": [
       "VBox(children=(FloatSlider(value=1.0, continuous_update=False, description='Environment density (g/cm³):', lay…"
      ]
     },
     "metadata": {},
     "output_type": "display_data"
    },
    {
     "data": {
      "application/vnd.jupyter.widget-view+json": {
       "model_id": "a09f1391fa95455782d72da5f333f97e",
       "version_major": 2,
       "version_minor": 0
      },
      "text/plain": [
       "HBox(children=(Dropdown(description='Radionuclide:', options=(('Bismuth-212', '212Bi'), ('Polonium-210', '210P…"
      ]
     },
     "metadata": {},
     "output_type": "display_data"
    },
    {
     "data": {
      "application/vnd.jupyter.widget-view+json": {
       "model_id": "0a503ad9e19a4a5b983e4d405dbd22b1",
       "version_major": 2,
       "version_minor": 0
      },
      "text/plain": [
       "HBox(children=(BoundedFloatText(value=1.0, description='Activity concentration:', max=1000000.0, min=1.0, styl…"
      ]
     },
     "metadata": {},
     "output_type": "display_data"
    },
    {
     "data": {
      "application/vnd.jupyter.widget-view+json": {
       "model_id": "60756b0903504bf98159f80f3fa4426f",
       "version_major": 2,
       "version_minor": 0
      },
      "text/plain": [
       "BoundedFloatText(value=0.5, description='Microorganism Diameter (μm):', max=1200.0, min=0.5, style=Description…"
      ]
     },
     "metadata": {},
     "output_type": "display_data"
    }
   ],
   "source": [
    "##############################################################################\n",
    "# REQUIREMENTS\n",
    "##############################################################################\n",
    "# Install ipywidgets and ipympl before\n",
    "# in any case check to have all the libraries associated installed before running the code.\n",
    "# jupyter nbextension enable --py widgetsnbextension (check if you have this extention)\n",
    "# pip install plotly\n",
    "# You need to have mysql to access to the database\n",
    "# To be able to presents as Slides you need to have Rise, also you can modify the metadata(Edit/Edit Notebook Metadata)\n",
    "\n",
    "##############################################################################\n",
    "# Button to hide the code\n",
    "##############################################################################\n",
    "toggle_cell_code(\"String_unique\")\n",
    "\n",
    "##############################################################################\n",
    "# LIBRARY\n",
    "##############################################################################\n",
    "%matplotlib widget\n",
    "\n",
    "import ipywidgets as widgets\n",
    "from ipywidgets import Layout\n",
    "from ipywidgets import GridspecLayout\n",
    "from ipywidgets import interact, interactive, fixed, interact_manual\n",
    "from IPython.display import display, HTML, Javascript\n",
    "\n",
    "import plotly.graph_objects as go\n",
    "import plotly.express as px\n",
    "import plotly\n",
    "\n",
    "#for offline plotting using plotly\n",
    "from plotly.offline import download_plotlyjs, init_notebook_mode, plot, iplot\n",
    "\n",
    "import sys\n",
    "import math\n",
    "import numpy as np\n",
    "import mysql.connector\n",
    "import seaborn as sns\n",
    "import matplotlib.pyplot as plt\n",
    "import matplotlib.widgets as mwidgets\n",
    "from matplotlib.widgets import Slider, Button, TextBox\n",
    "from mysql.connector import Error\n",
    "from scipy.optimize import curve_fit\n",
    "from scipy.interpolate import interp1d\n",
    "#import tkinter as tk\n",
    "\n",
    "import matplotlib as mpl\n",
    "mpl.rcParams['figure.max_open_warning'] = 50\n",
    "\n",
    "\n",
    "##############################################################################\n",
    "# DEFINING INTERPOLATION-EXTRAPOLATION FUNCTIONS FOR THE DIFFERENTS GEOMETRIES \n",
    "##############################################################################\n",
    "\n",
    "def interpolate_and_extrapolate(x_data, y_data, x):\n",
    "    if 0.5 < x < 1200:\n",
    "        f = interp1d(x_data, y_data)\n",
    "        y = f(x)\n",
    "    else:\n",
    "        f = interp1d(x_data, y_data, fill_value=\"extrapolate\")\n",
    "        y = f(x)\n",
    "    return y\n",
    "\n",
    "##############################################################################\n",
    "# MAKING WIDGETS TO REQUEST THE USER INPUTS\n",
    "##############################################################################\n",
    "\n",
    "# DEFINING SELECTION OPTIONS AND ITS VALUES\n",
    "Exposure = [\n",
    "    ('External', 'external'),\n",
    "    ('Internal', 'internal')\n",
    "]\n",
    "\n",
    "# DEFINING SELECTION OPTIONS AND ITS VALUES\n",
    "Radionuclide = [\n",
    "    ('Bismuth-212', '212Bi'),\n",
    "    ('Polonium-210', '210Po'),\n",
    "    ('Polonium-212', '212Po'),\n",
    "    ('Polonium-214', '214Po'),\n",
    "    ('Polonium-216', '216Po'),\n",
    "    ('Polonium-218', '218Po'),\n",
    "    ('Radium-226', '226Ra'),\n",
    "    ('Radium-224', '224Ra'),\n",
    "    ('Radon-220', '220Rn'),\n",
    "    ('Radon-222', '222Rn'),\n",
    "    ('Thorium-228', '228Th'),\n",
    "    ('Thorium-230', '230Th'),\n",
    "    ('Thorium-232', '232Th'),\n",
    "    ('Uranium-234', '234U'),\n",
    "    ('Uranium-238', '238U')\n",
    "]\n",
    "\n",
    "output =widgets.Output(layout={'border':'1px solid black'})\n",
    "output\n",
    "\n",
    "style = {'description_width': 'initial'}   # ADJUSTING THE STYLE FOR THE DIAMETER (IF YOU REMOVE IT DOESN'T SHOW THE WHOLE NAME\n",
    "\n",
    "# EXPOSURE DROPDOWN BAR\n",
    "dropdown_exposure = widgets.Dropdown(options= Exposure, description='Exposure:')\n",
    "\n",
    "input1_widgets = widgets.HBox([dropdown_exposure])\n",
    "display(input1_widgets)\n",
    "print(\"Select environment density only for external exposure\")\n",
    "\n",
    "# RADIONUCLIDE DROPDOWN BAR\n",
    "dropdown_radionuclide = widgets.Dropdown(options= Radionuclide, description='Radionuclide:')\n",
    "\n",
    "##############################################################################\n",
    "# ENVIRONMENT DENSITY SLIDER WIDGET\n",
    "##############################################################################\n",
    "slider = widgets.FloatSlider(\n",
    "    value=1.0,                                        # Initial value\n",
    "    min=1.0,                                          # Minimum value : Water density\n",
    "    max=2.65,                                         # Maximum value : Quartz density\n",
    "    step=0.01,                                        # Step size\n",
    "    description='Environment density (g/cm\\u00b3):',  # Slider label\n",
    "    readout_format='.2f',                             # Format of the displayed value\n",
    "    continuous_update=False,                          # Update the value only when the user releases the slider\n",
    "    style=style\n",
    ")\n",
    "\n",
    "# Set the labels for the minimum and maximum values\n",
    "slider.style.handle_color = 'lightblue'               # Optional: customize the slider handle color\n",
    "slider.layout.width = '400px'                         # Optional: customize the width of the slider\n",
    "\n",
    "empty_label = widgets.Label(value='')                 # Empty label for spacing\n",
    "labels = [empty_label,empty_label,empty_label,empty_label,empty_label,empty_label,empty_label,empty_label,empty_label,empty_label,empty_label,empty_label,empty_label,empty_label,empty_label,empty_label,empty_label,empty_label,empty_label,empty_label,empty_label,empty_label,empty_label,empty_label,empty_label,empty_label,empty_label,empty_label,empty_label,empty_label,empty_label,empty_label,empty_label,empty_label,empty_label,empty_label,empty_label,empty_label,empty_label, widgets.Label(value='Pure water'),empty_label,empty_label,empty_label,empty_label,empty_label,empty_label,empty_label,empty_label,empty_label,empty_label,empty_label,empty_label,empty_label,empty_label, widgets.Label(value='Pure sediment')]\n",
    "\n",
    "labels_box = widgets.HBox(labels)\n",
    "slider_with_labels = widgets.VBox([slider,labels_box])\n",
    "\n",
    "# Display the slider widget with its labels\n",
    "display(slider_with_labels)\n",
    "\n",
    "##############################################################################\n",
    "# ACTIVITY BOX DEFINITION (MAX AND MIN VALUES POSSIBLE)\n",
    "##############################################################################\n",
    "bounded_Activity = widgets.BoundedFloatText(min=1,max=1000000, description='Activity concentration:',style=style)\n",
    "\n",
    "##############################################################################\n",
    "# DIAMETER BOX DEFINITION (MAX AND MIN VALUES POSSIBLE)\n",
    "##############################################################################\n",
    "bounded_diameter = widgets.BoundedFloatText(min=0.5,max=1200, description='Microorganism Diameter (\\u03BCm):', style=style)\n",
    "Diameter = bounded_diameter.value\n",
    "\n",
    "##############################################################################\n",
    "# MAKING A CHECKBOX FOR THE ACTIVITY UNITS SELECTION\n",
    "##############################################################################\n",
    "input4_widgets = widgets.RadioButtons(options=['Bq/kg', 'Bq/m\\u00b3', 'Bq/L'],\n",
    "    value='Bq/kg', # Defaults to 'Bq/L'\n",
    "    # layout={'width': 'max-content'}, # If the items' names are long\n",
    "    description='Units:',\n",
    "    disabled=False\n",
    ")\n",
    "\n",
    "##############################################################################\n",
    "# ADJUST VARIOUS WIDGETS IN THE SAME LINE\n",
    "##############################################################################\n",
    "\n",
    "input2_widgets = widgets.HBox([dropdown_radionuclide])\n",
    "input3_widgets = widgets.HBox([bounded_Activity, input4_widgets])\n",
    "\n",
    "# DISPLAYING THE WIDGETS\n",
    "\n",
    "display(input2_widgets)\n",
    "display(input3_widgets)\n",
    "display(bounded_diameter)\n",
    "\n",
    "#Function to execute a specific cell\n",
    "def execute_cell(cell_number):\n",
    "    display(Javascript(f'UPython.notebook.execute_cell_range({cell_number}, {cell_number+1})'))\n"
   ]
  },
  {
   "cell_type": "code",
   "execution_count": 36,
   "id": "30feafe1-fa65-4702-8296-a88ee9df55ae",
   "metadata": {},
   "outputs": [
    {
     "data": {
      "text/html": [
       "\n",
       "    <button type=\"button\" id=\"String_database\" onclick=\"code_toggle('String_database')\">Code</button>\n",
       "    <script>\n",
       "    function code_toggle(my_id) {\n",
       "        // get the parent element for the cell code and output\n",
       "        var p = $(\"#\"+my_id);\n",
       "        if (p.length==0) return;\n",
       "        while (!p.hasClass(\"cell\")) {\n",
       "            p = p.parent();\n",
       "            if (p.prop(\"tagName\") ==\"body\") return;\n",
       "        }\n",
       "    // get the cell code and toggle its value\n",
       "    var cell_code = p.find(\".input\");\n",
       "    cell_code.toggle();\n",
       "\n",
       "\n",
       "    // toggle the button label\n",
       "    var button = $(\"#\" + my_id);\n",
       "    if (cell_code.is(\":visible\")) {\n",
       "        button.text(\"Hide Code\");\n",
       "    } else {\n",
       "        button.text(\"Show Code\");\n",
       "    }\n",
       "    }\n",
       "    </script>\n",
       "    "
      ]
     },
     "metadata": {},
     "output_type": "display_data"
    },
    {
     "name": "stdout",
     "output_type": "stream",
     "text": [
      "Connected to MySQL Server version  8.2.0\n",
      "You're connected to database:\n",
      "EXTERNAL\n",
      "Dose to microorganisms in uGy:  8.962204647068917e-07\n",
      "Edep in MeV:  0.23592000000000013\n"
     ]
    },
    {
     "data": {
      "application/vnd.jupyter.widget-view+json": {
       "model_id": "e2d5ac0423f54ed8aa5b4c520425b959",
       "version_major": 2,
       "version_minor": 0
      },
      "image/png": "[encoded data removed]",
      "text/html": [
       "\n",
       "            <div style=\"display: inline-block;\">\n",
       "                <div class=\"jupyter-widgets widget-label\" style=\"text-align: center;\">\n",
       "                    Figure\n",
       "                </div>\n",
       "                <img src='data:image/png;base64,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' width=640.0/>\n",
       "            </div>\n",
       "        "
      ],
      "text/plain": [
       "Canvas(toolbar=Toolbar(toolitems=[('Home', 'Reset original view', 'home', 'home'), ('Back', 'Back to previous …"
      ]
     },
     "metadata": {},
     "output_type": "display_data"
    }
   ],
   "source": [
    "##############################################################################\n",
    "# Button to hide the code\n",
    "##############################################################################\n",
    "toggle_cell_code(\"String_database\")\n",
    "# Define the index of the code cell containing the plot\n",
    "plot_cell_index = 59\n",
    "\n",
    "##############################################################################\n",
    "# FUNCTION TO ACCESS AND EXTRACT DATA FROM THE DATABASE\n",
    "##############################################################################\n",
    "def database_run():\n",
    "    try :\n",
    "        dataBase = mysql.connector.connect(\n",
    "            host = \"localhost\",\n",
    "            user = \"marim\",\n",
    "            database = \"marim\"\n",
    "        )\n",
    "        if dataBase.is_connected():\n",
    "                db_Info = dataBase.get_server_info()\n",
    "                print(\"Connected to MySQL Server version \", db_Info)\n",
    "\n",
    "                cursor = dataBase.cursor()\n",
    "                cursor.execute(f\"SELECT edep_mev FROM {dropdown_radionuclide.value}_internal;\")\n",
    "                record = np.array(cursor.fetchall(), dtype=float)\n",
    "                EdepInt = [a[0] for a in record]\n",
    "\n",
    "                cursor = dataBase.cursor()\n",
    "                cursor.execute(f\"SELECT dcc_ugyperhperbqperkg FROM {dropdown_radionuclide.value}_internal;\")\n",
    "                record = np.array(cursor.fetchall(), dtype=float)\n",
    "                DCCInt = [a[0] for a in record]\n",
    "\n",
    "                cursor = dataBase.cursor()\n",
    "                cursor.execute(f\"SELECT microdiameter_um FROM {dropdown_radionuclide.value}_internal;\")\n",
    "                record = np.array(cursor.fetchall(), dtype=float)\n",
    "                microdiameter = [a[0] for a in record]\n",
    "\n",
    "                cursor = dataBase.cursor()\n",
    "                cursor.execute(f\"SELECT micromass_kg FROM {dropdown_radionuclide.value}_internal;\")\n",
    "                record = np.array(cursor.fetchall(), dtype=float)\n",
    "                micromass = [a[0] for a in record]\n",
    "\n",
    "                cursor = dataBase.cursor()\n",
    "                cursor.execute(f\"SELECT envradius_um FROM {dropdown_radionuclide.value}_water;\")\n",
    "                record = np.array(cursor.fetchall(), dtype=float)\n",
    "                envradius = [a[0] for a in record]\n",
    "\n",
    "#               Extracting EDEP values from water tables\n",
    "                cursor = dataBase.cursor()\n",
    "                cursor.execute(f\"SELECT edep_mev FROM {dropdown_radionuclide.value}_water;\")\n",
    "                record = np.array(cursor.fetchall(), dtype=float)\n",
    "                EdepWater = [a[0] for a in record]\n",
    "\n",
    "                cursor = dataBase.cursor()\n",
    "                cursor.execute(f\"SELECT dcc_ugyperhperbqperkg FROM {dropdown_radionuclide.value}_water;\")\n",
    "                record = np.array(cursor.fetchall(), dtype=float)\n",
    "                DCCwater = [a[0] for a in record]\n",
    "\n",
    "                cursor = dataBase.cursor()\n",
    "                cursor.execute(f\"SELECT envmass_kg FROM {dropdown_radionuclide.value}_water;\")\n",
    "                record = np.array(cursor.fetchall(), dtype=float)\n",
    "                envmass_water = [a[0] for a in record]\n",
    "                \n",
    "#               Extracting EDEP values from mix 1:1 tables\n",
    "                cursor = dataBase.cursor()\n",
    "                cursor.execute(f\"SELECT edep_mev FROM {dropdown_radionuclide.value}_mix;\")\n",
    "                record = np.array(cursor.fetchall(), dtype=float)  \n",
    "                EdepMix = [a[0] for a in record]\n",
    "\n",
    "                cursor = dataBase.cursor()\n",
    "                cursor.execute(f\"SELECT dcc_ugyperhperbqperkg FROM {dropdown_radionuclide.value}_mix;\")\n",
    "                record = np.array(cursor.fetchall(), dtype=float)\n",
    "                DCCmix = [a[0] for a in record]\n",
    "            \n",
    "                cursor = dataBase.cursor()\n",
    "                cursor.execute(f\"SELECT envmass_kg FROM {dropdown_radionuclide.value}_mix;\")\n",
    "                record = np.array(cursor.fetchall(), dtype=float)\n",
    "                envmass_mix = [a[0] for a in record]\n",
    "                \n",
    "#               Extracting EDEP values from sediments tables\n",
    "                cursor = dataBase.cursor()\n",
    "                cursor.execute(f\"SELECT edep_mev FROM {dropdown_radionuclide.value}_quartz;\")\n",
    "                record = np.array(cursor.fetchall(), dtype=float)\n",
    "                EdepQuartz = [a[0] for a in record]\n",
    "\n",
    "                cursor = dataBase.cursor()\n",
    "                cursor.execute(f\"SELECT dcc_ugyperhperbqperkg FROM {dropdown_radionuclide.value}_quartz;\")\n",
    "                record = np.array(cursor.fetchall(), dtype=float)\n",
    "                DCCquartz = [a[0] for a in record]\n",
    "\n",
    "                cursor = dataBase.cursor()\n",
    "                cursor.execute(f\"SELECT envmass_kg FROM {dropdown_radionuclide.value}_quartz;\")\n",
    "                record = np.array(cursor.fetchall(), dtype=float)\n",
    "                envmass_quartz = [a[0] for a in record]\n",
    "               \n",
    "                print(\"You're connected to database:\")\n",
    "\n",
    "    except Error as e:\n",
    "        print(\"Error while connecting to MySQL\", e)\n",
    "    finally:\n",
    "        if dataBase.is_connected():\n",
    "            cursor.close()\n",
    "            dataBase.close()\n",
    "        return [EdepInt, DCCInt, microdiameter, micromass, envradius, EdepWater, DCCwater, envmass_water, EdepMix, DCCmix, envmass_mix, EdepQuartz, DCCquartz, envmass_quartz]\n",
    "        \n",
    "EdepInt,DCCInt,microdiameter,micromass,envradius,EdepWater,DCCwater,envmass_water,EdepMix,DCCmix,envmass_mix,EdepQuartz,DCCquartz,envmass_quartz = database_run()\n",
    "\n",
    "edep_int = np.array(EdepInt)\n",
    "dcc_int = np.array(DCCInt)\n",
    "edep_water = np.array(EdepWater)\n",
    "dcc_water = np.array(DCCwater)\n",
    "edep_mix = np.array(EdepMix)\n",
    "dcc_mix = np.array(DCCmix)\n",
    "edep_quartz = np.array(EdepQuartz)\n",
    "dcc_quartz = np.array(DCCquartz)\n",
    "diam_micro = np.array(microdiameter)\n",
    "radius_env = np.array(envradius)\n",
    "mass_micro = np.array(micromass)\n",
    "mass_env_water = np.array(envmass_water)\n",
    "mass_env_mix = np.array(envmass_mix)\n",
    "mass_env_quartz = np.array(envmass_quartz)\n",
    "Microorg_Vol_cm3 = pow(diam_micro/2,3)*4/3*math.pi*1e-12\n",
    "#Array_Radius_env = np.array(Radius_env)\n",
    "Env_Volume_cm3 = (pow(radius_env,3)*4/3*math.pi*1e-12)-Microorg_Vol_cm3\n",
    "\n",
    "##############################################################################\n",
    "# FUNCTION TO INTERPOLATE THE MATRIX DENSITY\n",
    "##############################################################################\n",
    "def interpolate_density(x_data, y_data, x):\n",
    "    degree = 2 # Degree of the polynomial\n",
    "    coefficients = np.polyfit(x_data, y_data, degree)\n",
    "    # Generate fitted polynomial using the coefficients\n",
    "    fitted_poly = np.poly1d(coefficients)\n",
    "    y = fitted_poly(x)\n",
    "    return y\n",
    "\n",
    "# Densities for water,mix,sediments\n",
    "X_list = [1.00, 1.8, 2.65]\n",
    "\n",
    "# Initialize an empty list to store the Y arrays\n",
    "Y_list = []\n",
    "\n",
    "# Iterate over the arrays and create Y for each iteration\n",
    "for edep_w, edep_m, edep_q in zip(EdepWater, EdepMix, EdepQuartz):\n",
    "    Y = [edep_w, edep_m, edep_q]                 # Create Y array using values from the current iteration\n",
    "    Y_list.append(Y)                             # Add Y to the list\n",
    "\n",
    "# Initialize an empty list to store the interpolated values\n",
    "interpolated_values = []\n",
    "\n",
    "# Iterate over each Y array in Y_list\n",
    "for Y in Y_list:\n",
    "    # Perform interpolation using numpy.interp()\n",
    "    interpolated = interpolate_density(X_list,Y,slider.value)\n",
    "    interpolated_values.append(interpolated)\n",
    "\n",
    "# Convert interpolated_values to a numpy array\n",
    "interpolated_values = np.array(interpolated_values)\n",
    "\n",
    "if dropdown_exposure.value == 'external' :\n",
    "    print(\"EXTERNAL\")\n",
    "    Activity_vol = Env_Volume_cm3\n",
    "    Edep_MeV = interpolated_values\n",
    "\n",
    "if dropdown_exposure.value == 'internal' :\n",
    "    Edep_MeV = edep_int\n",
    "    Activity_vol = Microorg_Vol_cm3\n",
    "    print(\"INTERNAL\")\n",
    "\n",
    "Edep_J = Edep_MeV*1.60217733E-13\n",
    "\n",
    "Env_Volume_m3=Activity_vol*1e-6\n",
    "Env_Volume_L=Activity_vol*0.001\n",
    "Env_Mass_kg=Activity_vol*slider.value*0.001\n",
    "\n",
    "Micro_Mass_kg=Microorg_Vol_cm3*0.001\n",
    "\n",
    "Dose_to_micro = Edep_J/Micro_Mass_kg\n",
    "\n",
    "if input4_widgets.value == 'Bq/L' :\n",
    "    DoseRate = Dose_to_micro*bounded_Activity.value*Env_Volume_L*3600\n",
    "\n",
    "if input4_widgets.value == 'Bq/kg' :\n",
    "   DoseRate = Dose_to_micro*bounded_Activity.value*Env_Mass_kg*3600\n",
    "\n",
    "if input4_widgets.value == 'Bq/m\\u00b3' :\n",
    "   DoseRate = Dose_to_micro*bounded_Activity.value*Env_Volume_m3*3600\n",
    "\n",
    "\n",
    "#print(\"Dose to microorganisms in uGy: \",Dose_to_micro)\n",
    "#in uGy\n",
    "DoseRate=DoseRate*1e6\n",
    "\n",
    "##############################################################################\n",
    "# INTERPOLATING THE GEOMETRY\n",
    "##############################################################################\n",
    "def interpolate_and_extrapolate(x_data, y_data, x):\n",
    "    if 0.5 < x < 1200:\n",
    "        f = interp1d(x_data, y_data)\n",
    "        y = f(x)\n",
    "    else:\n",
    "        f = interp1d(x_data, y_data, fill_value=\"extrapolate\")\n",
    "        y = f(x)\n",
    "    return y\n",
    "\n",
    "# Create the figure and the line that we will manipulate\n",
    "\n",
    "fig, ax = plt.subplots()\n",
    "\n",
    "line, = ax.plot(microdiameter, DoseRate, lw=1)\n",
    "point = ax.scatter(bounded_diameter.value, interpolate_and_extrapolate(microdiameter, DoseRate, bounded_diameter.value), marker='*', color='red', s=100)\n",
    "ax.set_yscale('log')\n",
    "ax.set_title('Dose rate assessment', pad=30)\n",
    "ax.set_xlabel('Microorganism diameter [\\u03BCm]')\n",
    "ax.set_ylabel('Dose rate [\\u03BCGy/h]')\n",
    "\n",
    "plt.title(dropdown_radionuclide.label)\n",
    "\n",
    "\n",
    "# adjust the main plot to make room for the sliders\n",
    "fig.subplots_adjust(left=0.20, bottom=0.25)\n",
    "\n",
    "\n",
    "# Make a horizontal slider to control the diameter.\n",
    "axdiam = fig.add_axes([0.23, 0.1, 0.65, 0.03])\n",
    "diam_slider = Slider( ax=axdiam, label='Diameter [\\u03BCm]', valmin=0.5, valmax=1200, valinit=bounded_diameter.value,)\n",
    "\n",
    "axtext = plt.axes([0.26, 0.03, 0.25, 0.05])\n",
    "initial=interpolate_and_extrapolate(microdiameter, DoseRate, bounded_diameter.value)\n",
    "text_box = TextBox(axtext, 'Dose rate [\\u03BCGy/h]: '.format(initial) )\n",
    "text_box.set_val(\"{:e}\".format(initial))\n",
    "#axtext.set_text('Dose rate[\\u03BCGy/h]: {:e}'.format(initial))\n",
    "\n",
    "print(\"Dose to microorganisms in uGy: \",interpolate_and_extrapolate(microdiameter, Dose_to_micro, bounded_diameter.value)) #VERIFICARE perchè secondo me è in Gy e non µGy\n",
    "print(\"Edep in MeV: \",interpolate_and_extrapolate(microdiameter, Edep_MeV, bounded_diameter.value))\n",
    "\n",
    "# The function to be called anytime a slider's value changes\n",
    "def update(value):\n",
    "    diameter = diam_slider.val  # get the current slider value\n",
    "    y = interpolate_and_extrapolate(microdiameter, DoseRate, diameter)\n",
    "    point.set_offsets([[diameter, y]])  # update the point position\n",
    "    text_box.set_val(\"{:e}\".format(y))\n",
    "    axtext.set_text('Dose rate[\\u03BCGy/h]: {:e}'.format(y))\n",
    "    fig.canvas.draw_idle()\n",
    "    \n",
    "# register the update function with each slider\n",
    "diam_slider.on_changed(update)\n",
    "\n",
    "# Create a `matplotlib.widgets.Button` to reset the sliders to initial values.\n",
    "resetax = fig.add_axes([0.8, 0.025, 0.1, 0.04])\n",
    "button = Button(resetax, 'Reset', hovercolor='0.975')\n",
    "\n",
    "def reset(event):\n",
    "    diam_slider.reset()\n",
    "        \n",
    "button.on_clicked(reset)\n",
    "\n",
    "plt.show()"
   ]
  },
  {
   "cell_type": "markdown",
   "id": "b75d3e7a",
   "metadata": {
    "slideshow": {
     "slide_type": "skip"
    }
   },
   "source": [
    "<h1 style=\"font-size: 16px;\">Considerations</h1>\n",
    "<p>\n",
    "<div style=\"text-align: justify;\">\n",
    "The dose assessment for environments other than pure water, pure quartz, or a 1:1 mixture was not directly simulated. Instead, an interpolation method was used. A dose dependent material density mathematical function was obtained by performing Gate simulations for mixtures with different ratios (90%, 80%, 70%, and 60% in water) while varying the density. It's important to note that this study focused on a single radionuclide and one specific geometry. This curve serves as a reference for calculating the dose in these environments by interpolating within the curve. It's crucial to clarify that the dose values for these environments are not the direct result of Monte Carlo simulations but rather obtained through the interpolation method.\n",
    "This approach was adopted due to the significant time and computational resources required to perform this study for all possible geometries and sizes. By leveraging the dose-density curve and interpolation, the dose assessment can be efficiently extrapolated to various environments while maintaining a reasonable level of accuracy.\n",
    "</div>\n",
    "</p>\n",
    "</h1>"
   ]
  },
  {
   "cell_type": "markdown",
   "id": "c28f70a1-d31b-4982-9e5f-7fee66808c2e",
   "metadata": {
    "slideshow": {
     "slide_type": "skip"
    }
   },
   "source": [
    "## Defining mathematicals functions\n",
    "\n",
    "To estimate the dose using the simulations values we used the function interpolate 1D inside the range of 0.5 to 150 um diameter. When it is outside this range is used the extrapolate verison of it (only considered the limit 0 to 250 um).\n",
    "\n",
    "### Interpolate / extrapolate python functions\n",
    "\n",
    "Uses:\n",
    "\n",
    "1. To evaluate the dose for any microorganism\n",
    "\n",
    "2. To generate the intermediate density values not simulated\n"
   ]
  },
  {
   "cell_type": "code",
   "execution_count": 5,
   "id": "f5d4c8e5-4230-40f7-87d2-0eceaa91431e",
   "metadata": {
    "slideshow": {
     "slide_type": "skip"
    },
    "tags": []
   },
   "outputs": [],
   "source": [
    "# DEFINING INTERPOLATION-EXTRAPOLATION FUNCTIONS\n",
    "f = interp1d(x_data, y_data)\n",
    "y = f(x)"
   ]
  },
  {
   "cell_type": "markdown",
   "id": "9ef344f1-78a2-4278-9efd-8c3f4ad31a37",
   "metadata": {
    "slideshow": {
     "slide_type": "-"
    }
   },
   "source": [
    "<div style=\"text-align: center;\">\n",
    "    <div>\n",
    "        <img src=\"LPC_logo.png\" alt=\"Seba y Chispy\" style=\"display: block; margin: 0 auto; width: 1000px;\">\n",
    "    </div>\n",
    "</div>"
   ]
  },
  {
   "cell_type": "markdown",
   "id": "93b97742",
   "metadata": {},
   "source": []
  }
 ],
 "metadata": {
  "celltoolbar": "Slideshow",
  "kernelspec": {
   "display_name": "Python 3 (ipykernel)",
   "language": "python",
   "name": "python3"
  },
  "language_info": {
   "codemirror_mode": {
    "name": "ipython",
    "version": 3
   },
   "file_extension": ".py",
   "mimetype": "text/x-python",
   "name": "python",
   "nbconvert_exporter": "python",
   "pygments_lexer": "ipython3",
   "version": "3.10.10"
  },
  "nbTranslate": {
   "displayLangs": [
    "*"
   ],
   "hotkey": "alt-t",
   "langInMainMenu": true,
   "sourceLang": "en",
   "targetLang": "fr",
   "useGoogleTranslate": true
  },
  "rise": {
   "_backimage": "./IMG/Slide1.png",
   "_theme_options": [
    "black",
    "white",
    "league",
    "beige",
    "sky",
    "night",
    "serif"
   ],
   "_transition_options": [
    "none",
    "fade",
    "slide",
    "convex",
    "concave",
    "zoom"
   ],
   "autolaunch": false,
   "enable_chalkboard": true,
   "header": "<h3 style='margin-left:250px; color: grey;'>Dose assessment using MC simulation toolkit GATE.</h3>",
   "theme": "white",
   "transition": "slide"
  },
  "varInspector": {
   "cols": {
    "lenName": 16,
    "lenType": 16,
    "lenVar": 40
   },
   "kernels_config": {
    "python": {
     "delete_cmd_postfix": "",
     "delete_cmd_prefix": "del ",
     "library": "var_list.py",
     "varRefreshCmd": "print(var_dic_list())"
    },
    "r": {
     "delete_cmd_postfix": ") ",
     "delete_cmd_prefix": "rm(",
     "library": "var_list.r",
     "varRefreshCmd": "cat(var_dic_list()) "
    }
   },
   "types_to_exclude": [
    "module",
    "function",
    "builtin_function_or_method",
    "instance",
    "_Feature"
   ],
   "window_display": false
  }
 },
 "nbformat": 4,
 "nbformat_minor": 5
}
